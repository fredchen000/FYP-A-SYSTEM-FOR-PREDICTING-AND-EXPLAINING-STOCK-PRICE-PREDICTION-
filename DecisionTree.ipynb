{
 "cells": [
  {
   "cell_type": "markdown",
   "metadata": {},
   "source": [
    "# Library import"
   ]
  },
  {
   "cell_type": "code",
   "execution_count": 17,
   "metadata": {},
   "outputs": [],
   "source": [
    "import pandas as pd\n",
    "import numpy as np\n",
    "\n",
    "import bs4 as bs\n",
    "import pickle\n",
    "import requests\n",
    "import time\n",
    "import lxml\n",
    "from datetime import datetime, timedelta\n",
    "\n",
    "import yfinance as yf\n",
    "import stockstats\n",
    "\n",
    "import unicodedata\n",
    "import json\n",
    "from textblob import TextBlob\n",
    "\n",
    "from sklearn.preprocessing import StandardScaler, MinMaxScaler\n",
    "from sklearn.model_selection import GridSearchCV\n",
    "from sklearn.ensemble import AdaBoostClassifier\n",
    "from sklearn.ensemble import RandomForestClassifier\n",
    "from sklearn.ensemble import GradientBoostingClassifier, IsolationForest,VotingClassifier\n",
    "from sklearn.model_selection import StratifiedShuffleSplit, train_test_split\n",
    "from sklearn.tree import export_graphviz, DecisionTreeClassifier, tree\n",
    "import graphviz \n",
    "from sklearn import tree\n",
    "from sklearn.neural_network import MLPClassifier\n",
    "from xgboost import XGBClassifier\n",
    "\n",
    "from sklearn.metrics import roc_auc_score, confusion_matrix, classification_report\n",
    "from sklearn.metrics import classification_report, accuracy_score"
   ]
  },
  {
   "cell_type": "code",
   "execution_count": 18,
   "metadata": {},
   "outputs": [],
   "source": [
    "target = \"MSFT\""
   ]
  },
  {
   "cell_type": "markdown",
   "metadata": {},
   "source": [
    "# Read Data"
   ]
  },
  {
   "cell_type": "code",
   "execution_count": 19,
   "metadata": {},
   "outputs": [],
   "source": [
    "stock_without_absolute = pd.read_pickle('./data/'+target+'/stock_without_absolute.pkl')\n",
    "stock_with_absolute = pd.read_pickle('./data/'+target+'/stock_with_absolute.pkl')\n",
    "\n",
    "label_abs_1d = pd.read_pickle('./data/'+target+'/label_abs_1d.pkl')\n",
    "label_abs_7d = pd.read_pickle('./data/'+target+'/label_abs_7d.pkl')\n",
    "label_abs_30d = pd.read_pickle('./data/'+target+'/label_abs_30d.pkl')\n",
    "\n",
    "label_value_1d = pd.read_pickle('./data/'+target+'/label_value_1d.pkl')\n",
    "label_value_7d = pd.read_pickle('./data/'+target+'/label_value_7d.pkl')\n",
    "label_value_30d = pd.read_pickle('./data/'+target+'/label_value_30d.pkl')\n"
   ]
  },
  {
   "cell_type": "code",
   "execution_count": 20,
   "metadata": {},
   "outputs": [],
   "source": [
    "# stock_without_absolute.corr().style.background_gradient(cmap='coolwarm').set_precision(2)"
   ]
  },
  {
   "cell_type": "markdown",
   "metadata": {},
   "source": [
    "# Result Evaluation"
   ]
  },
  {
   "cell_type": "code",
   "execution_count": 21,
   "metadata": {},
   "outputs": [],
   "source": [
    "def create_grid_model(classifier, param_grid):\n",
    "    cv = StratifiedShuffleSplit(n_splits=5, test_size=0.1)\n",
    "    grid_model = GridSearchCV(classifier, param_grid=param_grid, cv=cv, n_jobs=-1,verbose=1, scoring='accuracy')\n",
    "    return grid_model"
   ]
  },
  {
   "cell_type": "code",
   "execution_count": 22,
   "metadata": {},
   "outputs": [],
   "source": [
    "def result(grid_model, train_data, predicted_test, test_label, predicted_train, train_label, file_name, decision_function, clf_name=\"Classifier\"):\n",
    "    print(\"Results for \", clf_name, \": \")\n",
    "    print()\n",
    "    print(\"The best parameters are %s\" % (grid_model.best_params_))\n",
    "    acc_train = accuracy_score(train_label, predicted_train)\n",
    "    acc_test = accuracy_score(test_label, predicted_test)\n",
    "    print(\"The Train Accuracy  %0.3f\" % (acc_train))\n",
    "    print(\"The Validation Accuracy   %0.3f\" % (grid_model.best_score_))\n",
    "    print(\"The Test Accuracy   %0.3f\" % (acc_test ))\n",
    "    \n",
    "    if (clf_name[:6] == 'Random') | (clf_name == 'DecisionTree'):\n",
    "        test_label_roc = np.zeros((len(test_label),2) )\n",
    "        for i,v in enumerate(test_label):\n",
    "            if v > 0.5:\n",
    "                test_label_roc[i,1] = 1\n",
    "            else:\n",
    "                test_label_roc[i,0] = 1\n",
    "    \n",
    "    \n",
    "    if (clf_name[:6] == 'Random') | (clf_name == 'DecisionTree'):\n",
    "        print(\"AUC ROC : %0.3f\" %( roc_auc_score(test_label_roc, decision_function) ))\n",
    "    else:\n",
    "        print(\"AUC ROC : %0.3f\" %( roc_auc_score(test_label, decision_function) ))\n",
    "\n",
    "    print(\"The mean training time of %f\" % (np.mean(grid_model.cv_results_['mean_fit_time'], axis=0)) )\n",
    "    print(\"The mean test time of %f\" % (np.mean(grid_model.cv_results_['mean_score_time'], axis=0)) )\n",
    "    # confusion matrix\n",
    "    print(\"confusion matrix / precision recall scores\")\n",
    "    print ( confusion_matrix(test_label, predicted_test) )\n",
    "    print ( classification_report(test_label, predicted_test) )\n",
    "    rfc_model.best_estimator_.feature_importances_\n",
    "    \n",
    "    #feature importance\n",
    "    feats = {} # a dict to hold feature_name: feature_importance\n",
    "    for feature, importance in zip(train_data.columns, grid_model.best_estimator_.feature_importances_):\n",
    "        feats[feature] = importance #add the name/value pair \n",
    "    importances = pd.DataFrame.from_dict(feats, orient='index').rename(columns={0: 'Gini-importance'})\n",
    "    importances = importances.sort_values(by='Gini-importance', ascending=False)\n",
    "    print(importances.head(7)) # print the top 7 features with greater importance\n",
    "    \n",
    "    f = open(file_name+'.txt','w')\n",
    "    f.write(\"The best parameters are %s\\n\"% (grid_model.best_params_))\n",
    "    f.write(\"The Train Accuracy %0.3f\\n\" % (acc_train))\n",
    "    if (clf_name[:6] == 'Random') | (clf_name == 'DecisionTree'):\n",
    "        f.write(\"AUC ROC : %0.3f\\n\" %( roc_auc_score(test_label_roc, decision_function) ))\n",
    "    else:\n",
    "        f.write(\"AUC ROC : %0.3f\\n\" %( roc_auc_score(test_label, decision_function) ))\n",
    "\n",
    "    f.write(\"The Validation Accuracy %0.3f\\n\" % (grid_model.best_score_))\n",
    "    f.write(\"The Test Accuracy %0.3f\\n\" % (acc_test ))\n",
    "    f.write( str(confusion_matrix(test_label, predicted_test)) + \"\\n\")\n",
    "    f.write( str(classification_report(test_label, predicted_test)) + \"\\n\\n\")\n",
    "    f.write(json.dumps(feats))\n",
    "    f.close()\n",
    "    \n",
    "    importances.to_csv(file_name+'.csv')\n",
    "    \n",
    "    pass"
   ]
  },
  {
   "cell_type": "code",
   "execution_count": 23,
   "metadata": {},
   "outputs": [],
   "source": [
    "best_1d_model_param = None\n",
    "best_7d_model_param = None\n",
    "best_30d_model_param = None"
   ]
  },
  {
   "cell_type": "markdown",
   "metadata": {},
   "source": [
    "# DecisionTree Classifier"
   ]
  },
  {
   "cell_type": "code",
   "execution_count": 24,
   "metadata": {},
   "outputs": [],
   "source": [
    "# 改這些地方： train_data, label, filename, clfname"
   ]
  },
  {
   "cell_type": "code",
   "execution_count": 27,
   "metadata": {},
   "outputs": [
    {
     "name": "stdout",
     "output_type": "stream",
     "text": [
      "Fitting 5 folds for each of 120 candidates, totalling 600 fits\n"
     ]
    },
    {
     "name": "stderr",
     "output_type": "stream",
     "text": [
      "[Parallel(n_jobs=-1)]: Using backend LokyBackend with 8 concurrent workers.\n",
      "[Parallel(n_jobs=-1)]: Done  56 tasks      | elapsed:    0.2s\n",
      "[Parallel(n_jobs=-1)]: Done 600 out of 600 | elapsed:    5.3s finished\n"
     ]
    },
    {
     "name": "stdout",
     "output_type": "stream",
     "text": [
      "Results for  DecisionTree : \n",
      "\n",
      "The best parameters are {'max_depth': 1, 'max_features': 2, 'min_samples_split': 30}\n",
      "The Train Accuracy  0.536\n",
      "The Validation Accuracy   0.544\n",
      "The Test Accuracy   0.566\n",
      "AUC ROC : 0.507\n",
      "The mean training time of 0.059408\n",
      "The mean test time of 0.000655\n",
      "confusion matrix / precision recall scores\n",
      "[[132  10]\n",
      " [ 98   9]]\n",
      "              precision    recall  f1-score   support\n",
      "\n",
      "           0       0.57      0.93      0.71       142\n",
      "           1       0.47      0.08      0.14       107\n",
      "\n",
      "    accuracy                           0.57       249\n",
      "   macro avg       0.52      0.51      0.43       249\n",
      "weighted avg       0.53      0.57      0.47       249\n",
      "\n",
      "                      Gini-importance\n",
      "gold_change                       1.0\n",
      "change                            0.0\n",
      "gold_open_close_diff              0.0\n",
      "y10bond_high                      0.0\n",
      "y10bond_open                      0.0\n",
      "gold_close_-6_r                   0.0\n",
      "gold_close_-2_r                   0.0\n"
     ]
    },
    {
     "data": {
      "image/svg+xml": [
       "<?xml version=\"1.0\" encoding=\"UTF-8\" standalone=\"no\"?>\n",
       "<!DOCTYPE svg PUBLIC \"-//W3C//DTD SVG 1.1//EN\"\n",
       " \"http://www.w3.org/Graphics/SVG/1.1/DTD/svg11.dtd\">\n",
       "<!-- Generated by graphviz version 2.40.1 (20161225.0304)\n",
       " -->\n",
       "<!-- Title: Tree Pages: 1 -->\n",
       "<svg width=\"282pt\" height=\"165pt\"\n",
       " viewBox=\"0.00 0.00 282.00 165.00\" xmlns=\"http://www.w3.org/2000/svg\" xmlns:xlink=\"http://www.w3.org/1999/xlink\">\n",
       "<g id=\"graph0\" class=\"graph\" transform=\"scale(1 1) rotate(0) translate(4 161)\">\n",
       "<title>Tree</title>\n",
       "<polygon fill=\"#ffffff\" stroke=\"transparent\" points=\"-4,4 -4,-161 278,-161 278,4 -4,4\"/>\n",
       "<!-- 0 -->\n",
       "<g id=\"node1\" class=\"node\">\n",
       "<title>0</title>\n",
       "<path fill=\"#fdf5ef\" stroke=\"#000000\" d=\"M202.5,-157C202.5,-157 79.5,-157 79.5,-157 73.5,-157 67.5,-151 67.5,-145 67.5,-145 67.5,-101 67.5,-101 67.5,-95 73.5,-89 79.5,-89 79.5,-89 202.5,-89 202.5,-89 208.5,-89 214.5,-95 214.5,-101 214.5,-101 214.5,-145 214.5,-145 214.5,-151 208.5,-157 202.5,-157\"/>\n",
       "<text text-anchor=\"start\" x=\"75.5\" y=\"-141.8\" font-family=\"Helvetica,sans-Serif\" font-size=\"14.00\" fill=\"#000000\">gold_change ≤ 0.722</text>\n",
       "<text text-anchor=\"start\" x=\"104.5\" y=\"-126.8\" font-family=\"Helvetica,sans-Serif\" font-size=\"14.00\" fill=\"#000000\">gini = 0.499</text>\n",
       "<text text-anchor=\"start\" x=\"91\" y=\"-111.8\" font-family=\"Helvetica,sans-Serif\" font-size=\"14.00\" fill=\"#000000\">samples = 2232</text>\n",
       "<text text-anchor=\"start\" x=\"77\" y=\"-96.8\" font-family=\"Helvetica,sans-Serif\" font-size=\"14.00\" fill=\"#000000\">value = [1164, 1068]</text>\n",
       "</g>\n",
       "<!-- 1 -->\n",
       "<g id=\"node2\" class=\"node\">\n",
       "<title>1</title>\n",
       "<path fill=\"#fcf0e7\" stroke=\"#000000\" d=\"M124,-53C124,-53 12,-53 12,-53 6,-53 0,-47 0,-41 0,-41 0,-12 0,-12 0,-6 6,0 12,0 12,0 124,0 124,0 130,0 136,-6 136,-12 136,-12 136,-41 136,-41 136,-47 130,-53 124,-53\"/>\n",
       "<text text-anchor=\"start\" x=\"31.5\" y=\"-37.8\" font-family=\"Helvetica,sans-Serif\" font-size=\"14.00\" fill=\"#000000\">gini = 0.498</text>\n",
       "<text text-anchor=\"start\" x=\"18\" y=\"-22.8\" font-family=\"Helvetica,sans-Serif\" font-size=\"14.00\" fill=\"#000000\">samples = 2002</text>\n",
       "<text text-anchor=\"start\" x=\"8\" y=\"-7.8\" font-family=\"Helvetica,sans-Serif\" font-size=\"14.00\" fill=\"#000000\">value = [1065, 937]</text>\n",
       "</g>\n",
       "<!-- 0&#45;&gt;1 -->\n",
       "<g id=\"edge1\" class=\"edge\">\n",
       "<title>0&#45;&gt;1</title>\n",
       "<path fill=\"none\" stroke=\"#000000\" d=\"M115.2629,-88.9777C108.4744,-80.0039 101.1404,-70.3089 94.3216,-61.295\"/>\n",
       "<polygon fill=\"#000000\" stroke=\"#000000\" points=\"97.059,-59.1121 88.2346,-53.2485 91.4763,-63.3352 97.059,-59.1121\"/>\n",
       "<text text-anchor=\"middle\" x=\"84.8014\" y=\"-74.3116\" font-family=\"Helvetica,sans-Serif\" font-size=\"14.00\" fill=\"#000000\">True</text>\n",
       "</g>\n",
       "<!-- 2 -->\n",
       "<g id=\"node3\" class=\"node\">\n",
       "<title>2</title>\n",
       "<path fill=\"#cfe7f9\" stroke=\"#000000\" d=\"M262,-53C262,-53 166,-53 166,-53 160,-53 154,-47 154,-41 154,-41 154,-12 154,-12 154,-6 160,0 166,0 166,0 262,0 262,0 268,0 274,-6 274,-12 274,-12 274,-41 274,-41 274,-47 268,-53 262,-53\"/>\n",
       "<text text-anchor=\"start\" x=\"181.5\" y=\"-37.8\" font-family=\"Helvetica,sans-Serif\" font-size=\"14.00\" fill=\"#000000\">gini = 0.49</text>\n",
       "<text text-anchor=\"start\" x=\"168\" y=\"-22.8\" font-family=\"Helvetica,sans-Serif\" font-size=\"14.00\" fill=\"#000000\">samples = 230</text>\n",
       "<text text-anchor=\"start\" x=\"162\" y=\"-7.8\" font-family=\"Helvetica,sans-Serif\" font-size=\"14.00\" fill=\"#000000\">value = [99, 131]</text>\n",
       "</g>\n",
       "<!-- 0&#45;&gt;2 -->\n",
       "<g id=\"edge2\" class=\"edge\">\n",
       "<title>0&#45;&gt;2</title>\n",
       "<path fill=\"none\" stroke=\"#000000\" d=\"M166.7371,-88.9777C173.5256,-80.0039 180.8596,-70.3089 187.6784,-61.295\"/>\n",
       "<polygon fill=\"#000000\" stroke=\"#000000\" points=\"190.5237,-63.3352 193.7654,-53.2485 184.941,-59.1121 190.5237,-63.3352\"/>\n",
       "<text text-anchor=\"middle\" x=\"197.1986\" y=\"-74.3116\" font-family=\"Helvetica,sans-Serif\" font-size=\"14.00\" fill=\"#000000\">False</text>\n",
       "</g>\n",
       "</g>\n",
       "</svg>\n"
      ],
      "text/plain": [
       "<graphviz.files.Source at 0x10d16db38>"
      ]
     },
     "execution_count": 27,
     "metadata": {},
     "output_type": "execute_result"
    }
   ],
   "source": [
    "# stock_with_absolute, predict 1 day trend \n",
    "rfc = DecisionTreeClassifier() # classifier\n",
    "max_depth = range(1,20,2)\n",
    "max_features = [2 ,'sqrt', None]\n",
    "min_samples_split = range(10,50,10)\n",
    "\n",
    "# param to grid search\n",
    "param_grid = dict(max_depth=max_depth, max_features=max_features, min_samples_split=min_samples_split)\n",
    "\n",
    "# train data and label\n",
    "train_data = stock_with_absolute\n",
    "label = label_abs_1d\n",
    "\n",
    "X_train, X_test, y_train, y_test = train_test_split(train_data, label, test_size=0.1, shuffle=True)\n",
    "scaler = MinMaxScaler()\n",
    "X_train = scaler.fit_transform(X_train)\n",
    "X_test = scaler.transform(X_test)\n",
    "\n",
    "rfc_model = create_grid_model(rfc, param_grid)\n",
    "rfc_model.fit(X_train, y_train)\n",
    "\n",
    "predicted_test = rfc_model.predict(X_test)\n",
    "predicted_train = rfc_model.predict(X_train)\n",
    "decision_function = rfc_model.predict_proba(X_test)\n",
    "\n",
    "result(rfc_model, train_data, predicted_test, y_test, predicted_train, y_train, \n",
    "       \"./results/\"+target+\"/decision_with_ABS_pred_1_d\", decision_function, clf_name=\"DecisionTree\")\n",
    "\n",
    "best_1d_model_param = rfc_model.best_params_\n",
    "\n",
    "\n",
    "\n",
    "dot_data = tree.export_graphviz(rfc_model.best_estimator_, \n",
    "        out_file=None, \n",
    "        feature_names=train_data.columns, # the feature names.\n",
    "        filled=True, # Whether to fill in the boxes with colours.\n",
    "        rounded=True, # Whether to round the corners of the boxes.\n",
    "        special_characters=True)\n",
    "graph = graphviz.Source(dot_data)\n",
    "graph.render('tree')\n",
    "graph"
   ]
  },
  {
   "cell_type": "code",
   "execution_count": 10,
   "metadata": {},
   "outputs": [],
   "source": [
    "# # stock_without_absolute, predict 1 day trend \n",
    "# rfc = DecisionTreeClassifier() # classifier\n",
    "# max_depth = range(1,20,2)\n",
    "# max_features = [2 ,'sqrt', None]\n",
    "# min_samples_split = range(10,50,10)\n",
    "\n",
    "# # param to grid search\n",
    "# param_grid = dict(max_depth=max_depth, max_features=max_features, min_samples_split=min_samples_split)\n",
    "\n",
    "# # train data and label\n",
    "# train_data = stock_without_absolute\n",
    "# label = label_abs_1d\n",
    "\n",
    "# X_train, X_test, y_train, y_test = train_test_split(train_data, label, test_size=0.1, random_state=42)\n",
    "# scaler = MinMaxScaler()\n",
    "# X_train = scaler.fit_transform(X_train)\n",
    "# X_test = scaler.transform(X_test)\n",
    "\n",
    "# rfc_model = create_grid_model(rfc, param_grid)\n",
    "# rfc_model.fit(X_train, y_train)\n",
    "\n",
    "# predicted_test = rfc_model.predict(X_test)\n",
    "# predicted_train = rfc_model.predict(X_train)\n",
    "# decision_function = rfc_model.predict_proba(X_test)\n",
    "\n",
    "# result(rfc_model, train_data, predicted_test, y_test, predicted_train, y_train, \n",
    "#        \"./results/decision_without_ABS_pred_1_d\", decision_function, clf_name=\"DecisionTree\")"
   ]
  },
  {
   "cell_type": "code",
   "execution_count": 11,
   "metadata": {},
   "outputs": [
    {
     "name": "stdout",
     "output_type": "stream",
     "text": [
      "Fitting 5 folds for each of 120 candidates, totalling 600 fits\n"
     ]
    },
    {
     "name": "stderr",
     "output_type": "stream",
     "text": [
      "[Parallel(n_jobs=-1)]: Using backend LokyBackend with 8 concurrent workers.\n",
      "[Parallel(n_jobs=-1)]: Done  56 tasks      | elapsed:    0.3s\n",
      "[Parallel(n_jobs=-1)]: Done 528 tasks      | elapsed:   10.0s\n"
     ]
    },
    {
     "name": "stdout",
     "output_type": "stream",
     "text": [
      "Results for  DecisionTree : \n",
      "\n",
      "The best parameters are {'max_depth': 19, 'max_features': 'sqrt', 'min_samples_split': 10}\n",
      "The Train Accuracy  0.924\n",
      "The Validation Accuracy   0.650\n",
      "The Test Accuracy   0.558\n",
      "AUC ROC : 0.568\n",
      "The mean training time of 0.163383\n",
      "The mean test time of 0.002177\n",
      "confusion matrix / precision recall scores\n",
      "[[86 49]\n",
      " [61 53]]\n",
      "              precision    recall  f1-score   support\n",
      "\n",
      "           0       0.59      0.64      0.61       135\n",
      "           1       0.52      0.46      0.49       114\n",
      "\n",
      "    accuracy                           0.56       249\n",
      "   macro avg       0.55      0.55      0.55       249\n",
      "weighted avg       0.56      0.56      0.56       249\n",
      "\n",
      "                   Gini-importance\n",
      "sp500_adj close           0.045284\n",
      "close                     0.038722\n",
      "y10bond_open              0.037398\n",
      "gold_open                 0.033454\n",
      "dma                       0.030171\n",
      "gold_close                0.029317\n",
      "y10bond_adj close         0.025254\n"
     ]
    },
    {
     "name": "stderr",
     "output_type": "stream",
     "text": [
      "[Parallel(n_jobs=-1)]: Done 600 out of 600 | elapsed:   13.8s finished\n"
     ]
    }
   ],
   "source": [
    "# stock_with_absolute, predict 7 day trend \n",
    "rfc = DecisionTreeClassifier() # classifier\n",
    "max_depth = range(1,20,2)\n",
    "max_features = [2 ,'sqrt', None]\n",
    "min_samples_split = range(10,50,10)\n",
    "\n",
    "# param to grid search\n",
    "param_grid = dict(max_depth=max_depth, max_features=max_features, min_samples_split=min_samples_split)\n",
    "\n",
    "# train data and label\n",
    "train_data = stock_with_absolute\n",
    "label = label_abs_7d\n",
    "\n",
    "X_train, X_test, y_train, y_test = train_test_split(train_data, label, test_size=0.1, shuffle=True)\n",
    "scaler = MinMaxScaler()\n",
    "X_train = scaler.fit_transform(X_train)\n",
    "X_test = scaler.transform(X_test)\n",
    "\n",
    "rfc_model = create_grid_model(rfc, param_grid)\n",
    "rfc_model.fit(X_train, y_train)\n",
    "\n",
    "predicted_test = rfc_model.predict(X_test)\n",
    "predicted_train = rfc_model.predict(X_train)\n",
    "decision_function = rfc_model.predict_proba(X_test)\n",
    "\n",
    "result(rfc_model, train_data, predicted_test, y_test, predicted_train, y_train, \n",
    "       \"./results/\"+target+\"/decision_with_ABS_pred_7_d\", decision_function, clf_name=\"DecisionTree\")\n",
    "\n",
    "best_7d_model_param = rfc_model.best_params_"
   ]
  },
  {
   "cell_type": "code",
   "execution_count": 12,
   "metadata": {},
   "outputs": [],
   "source": [
    "# # stock_without_absolute, predict 7 day trend \n",
    "# rfc = DecisionTreeClassifier() # classifier\n",
    "# max_depth = range(1,20,2)\n",
    "# max_features = [2 ,'sqrt', None]\n",
    "# min_samples_split = range(10,50,10)\n",
    "\n",
    "# # param to grid search\n",
    "# param_grid = dict(max_depth=max_depth, max_features=max_features, min_samples_split=min_samples_split)\n",
    "\n",
    "# # train data and label\n",
    "# train_data = stock_without_absolute\n",
    "# label = label_abs_7d\n",
    "\n",
    "# X_train, X_test, y_train, y_test = train_test_split(train_data, label, test_size=0.1, random_state=42)\n",
    "# scaler = MinMaxScaler()\n",
    "# X_train = scaler.fit_transform(X_train)\n",
    "# X_test = scaler.transform(X_test)\n",
    "\n",
    "# rfc_model = create_grid_model(rfc, param_grid)\n",
    "# rfc_model.fit(X_train, y_train)\n",
    "\n",
    "# predicted_test = rfc_model.predict(X_test)\n",
    "# predicted_train = rfc_model.predict(X_train)\n",
    "# decision_function = rfc_model.predict_proba(X_test)\n",
    "\n",
    "# result(rfc_model, train_data, predicted_test, y_test, predicted_train, y_train, \n",
    "#        \"./results/decision_without_ABS_pred_7_d\", decision_function, clf_name=\"DecisionTree\")"
   ]
  },
  {
   "cell_type": "code",
   "execution_count": 13,
   "metadata": {},
   "outputs": [
    {
     "name": "stderr",
     "output_type": "stream",
     "text": [
      "[Parallel(n_jobs=-1)]: Using backend LokyBackend with 8 concurrent workers.\n"
     ]
    },
    {
     "name": "stdout",
     "output_type": "stream",
     "text": [
      "Fitting 5 folds for each of 120 candidates, totalling 600 fits\n"
     ]
    },
    {
     "name": "stderr",
     "output_type": "stream",
     "text": [
      "[Parallel(n_jobs=-1)]: Done  58 tasks      | elapsed:    0.3s\n",
      "[Parallel(n_jobs=-1)]: Done 544 tasks      | elapsed:   12.2s\n",
      "[Parallel(n_jobs=-1)]: Done 600 out of 600 | elapsed:   14.6s finished\n"
     ]
    },
    {
     "name": "stdout",
     "output_type": "stream",
     "text": [
      "Results for  DecisionTree : \n",
      "\n",
      "The best parameters are {'max_depth': 7, 'max_features': None, 'min_samples_split': 10}\n",
      "The Train Accuracy  0.901\n",
      "The Validation Accuracy   0.838\n",
      "The Test Accuracy   0.831\n",
      "AUC ROC : 0.896\n",
      "The mean training time of 0.183259\n",
      "The mean test time of 0.001909\n",
      "confusion matrix / precision recall scores\n",
      "[[145  10]\n",
      " [ 32  62]]\n",
      "              precision    recall  f1-score   support\n",
      "\n",
      "           0       0.82      0.94      0.87       155\n",
      "           1       0.86      0.66      0.75        94\n",
      "\n",
      "    accuracy                           0.83       249\n",
      "   macro avg       0.84      0.80      0.81       249\n",
      "weighted avg       0.84      0.83      0.83       249\n",
      "\n",
      "              Gini-importance\n",
      "open                 0.193716\n",
      "y10bond_open         0.133638\n",
      "macds                0.103672\n",
      "gold_close           0.074474\n",
      "dma                  0.057140\n",
      "gold_low             0.055964\n",
      "vr                   0.042186\n"
     ]
    }
   ],
   "source": [
    "# stock_with_absolute, predict 30 day trend \n",
    "rfc = DecisionTreeClassifier() # classifier\n",
    "max_depth = range(1,20,2)\n",
    "max_features = [2 ,'sqrt', None]\n",
    "min_samples_split = range(10,50,10)\n",
    "\n",
    "# param to grid search\n",
    "param_grid = dict(max_depth=max_depth, max_features=max_features, min_samples_split=min_samples_split)\n",
    "\n",
    "# train data and label\n",
    "train_data = stock_with_absolute\n",
    "label = label_abs_30d\n",
    "\n",
    "X_train, X_test, y_train, y_test = train_test_split(train_data, label, test_size=0.1, shuffle=True)\n",
    "scaler = MinMaxScaler()\n",
    "X_train = scaler.fit_transform(X_train)\n",
    "X_test = scaler.transform(X_test)\n",
    "\n",
    "rfc_model = create_grid_model(rfc, param_grid)\n",
    "rfc_model.fit(X_train, y_train)\n",
    "\n",
    "predicted_test = rfc_model.predict(X_test)\n",
    "predicted_train = rfc_model.predict(X_train)\n",
    "decision_function = rfc_model.predict_proba(X_test)\n",
    "\n",
    "result(rfc_model, train_data, predicted_test, y_test, predicted_train, y_train, \n",
    "       \"./results/\"+target+\"/decision_with_ABS_pred_30_d\", decision_function, clf_name=\"DecisionTree\")\n",
    "\n",
    "best_30d_model_param = rfc_model.best_params_"
   ]
  },
  {
   "cell_type": "code",
   "execution_count": 14,
   "metadata": {},
   "outputs": [],
   "source": [
    "# # stock_without_absolute, predict 30 day trend \n",
    "# rfc = DecisionTreeClassifier() # classifier\n",
    "# max_depth = range(1,20,2)\n",
    "# max_features = [2 ,'sqrt', None]\n",
    "# min_samples_split = range(10,50,10)\n",
    "\n",
    "# # param to grid search\n",
    "# param_grid = dict(max_depth=max_depth, max_features=max_features, min_samples_split=min_samples_split)\n",
    "\n",
    "# # train data and label\n",
    "# train_data = stock_without_absolute\n",
    "# label = label_abs_30d\n",
    "\n",
    "# X_train, X_test, y_train, y_test = train_test_split(train_data, label, test_size=0.1, random_state=42)\n",
    "# scaler = MinMaxScaler()\n",
    "# X_train = scaler.fit_transform(X_train)\n",
    "# X_test = scaler.transform(X_test)\n",
    "\n",
    "# rfc_model = create_grid_model(rfc, param_grid)\n",
    "# rfc_model.fit(X_train, y_train)\n",
    "\n",
    "# predicted_test = rfc_model.predict(X_test)\n",
    "# predicted_train = rfc_model.predict(X_train)\n",
    "# decision_function = rfc_model.predict_proba(X_test)\n",
    "\n",
    "# result(rfc_model, train_data, predicted_test, y_test, predicted_train, y_train, \n",
    "#        \"./results/decision_without_ABS_pred_30_d\", decision_function, clf_name=\"DecisionTree\")"
   ]
  },
  {
   "cell_type": "code",
   "execution_count": 15,
   "metadata": {},
   "outputs": [
    {
     "data": {
      "text/plain": [
       "{'max_depth': 7, 'max_features': None, 'min_samples_split': 10}"
      ]
     },
     "execution_count": 15,
     "metadata": {},
     "output_type": "execute_result"
    }
   ],
   "source": [
    "best_30d_model_param"
   ]
  },
  {
   "cell_type": "code",
   "execution_count": 16,
   "metadata": {},
   "outputs": [
    {
     "name": "stdout",
     "output_type": "stream",
     "text": [
      "{'max_depth': 9, 'max_features': 2, 'min_samples_split': 20}\n",
      "The Train Accuracy  0.639\n",
      "The Test Accuracy   0.442\n",
      "{'max_depth': 19, 'max_features': 'sqrt', 'min_samples_split': 10}\n",
      "The Train Accuracy  0.946\n",
      "The Test Accuracy   0.667\n",
      "{'max_depth': 7, 'max_features': None, 'min_samples_split': 10}\n",
      "The Train Accuracy  0.915\n",
      "The Test Accuracy   0.823\n"
     ]
    }
   ],
   "source": [
    "best_list = [best_1d_model_param, best_7d_model_param,  best_30d_model_param]\n",
    "labels = [label_abs_1d, label_abs_7d, label_abs_30d]\n",
    "file_name = [\"DT_1d\", \"DT_7d\", \"DT_30d\"]\n",
    "\n",
    "for index, best_parameters in enumerate(best_list):\n",
    "    print(best_parameters)\n",
    "    rfc = DecisionTreeClassifier(**best_parameters)\n",
    "\n",
    "    # train data and label\n",
    "    train_data = stock_with_absolute\n",
    "    label = labels[index]\n",
    "\n",
    "    X_train, X_test, y_train, y_test = train_test_split(train_data, label, test_size=0.1, shuffle=True)\n",
    "    scaler = MinMaxScaler()\n",
    "    X_train = scaler.fit_transform(X_train)\n",
    "    X_test = scaler.transform(X_test)\n",
    "\n",
    "    rfc.fit(X_train, y_train)\n",
    "\n",
    "    predicted_test = rfc.predict(X_test)\n",
    "    predicted_train = rfc.predict(X_train)\n",
    "\n",
    "    acc_train = accuracy_score(y_train, predicted_train)\n",
    "    acc_test = accuracy_score(y_test, predicted_test)\n",
    "    print(\"The Train Accuracy  %0.3f\" % (acc_train))\n",
    "    print(\"The Test Accuracy   %0.3f\" % (acc_test ))\n",
    "    pickle.dump(rfc, open('./backend/'+target+'/DT/'+file_name[index]+'.pkl','wb'))"
   ]
  },
  {
   "cell_type": "code",
   "execution_count": null,
   "metadata": {},
   "outputs": [],
   "source": []
  },
  {
   "cell_type": "code",
   "execution_count": null,
   "metadata": {},
   "outputs": [],
   "source": []
  },
  {
   "cell_type": "code",
   "execution_count": null,
   "metadata": {},
   "outputs": [],
   "source": []
  },
  {
   "cell_type": "code",
   "execution_count": null,
   "metadata": {},
   "outputs": [],
   "source": []
  },
  {
   "cell_type": "code",
   "execution_count": null,
   "metadata": {},
   "outputs": [],
   "source": []
  },
  {
   "cell_type": "code",
   "execution_count": null,
   "metadata": {},
   "outputs": [],
   "source": []
  },
  {
   "cell_type": "code",
   "execution_count": null,
   "metadata": {},
   "outputs": [],
   "source": []
  },
  {
   "cell_type": "code",
   "execution_count": null,
   "metadata": {},
   "outputs": [],
   "source": []
  },
  {
   "cell_type": "code",
   "execution_count": null,
   "metadata": {},
   "outputs": [],
   "source": []
  }
 ],
 "metadata": {
  "kernelspec": {
   "display_name": "Python 3",
   "language": "python",
   "name": "python3"
  },
  "language_info": {
   "codemirror_mode": {
    "name": "ipython",
    "version": 3
   },
   "file_extension": ".py",
   "mimetype": "text/x-python",
   "name": "python",
   "nbconvert_exporter": "python",
   "pygments_lexer": "ipython3",
   "version": "3.6.10"
  }
 },
 "nbformat": 4,
 "nbformat_minor": 4
}
