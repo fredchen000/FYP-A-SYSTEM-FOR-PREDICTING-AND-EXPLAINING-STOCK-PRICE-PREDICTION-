{
 "cells": [
  {
   "cell_type": "markdown",
   "metadata": {},
   "source": [
    "# Library import"
   ]
  },
  {
   "cell_type": "code",
   "execution_count": 1,
   "metadata": {},
   "outputs": [
    {
     "name": "stderr",
     "output_type": "stream",
     "text": [
      "/Users/chinkashiwakin/anaconda3/lib/python3.6/site-packages/sklearn/utils/deprecation.py:144: FutureWarning: The sklearn.tree.tree module is  deprecated in version 0.22 and will be removed in version 0.24. The corresponding classes / functions should instead be imported from sklearn.tree. Anything that cannot be imported from sklearn.tree is now part of the private API.\n",
      "  warnings.warn(message, FutureWarning)\n"
     ]
    }
   ],
   "source": [
    "import pandas as pd\n",
    "import numpy as np\n",
    "\n",
    "import bs4 as bs\n",
    "import pickle\n",
    "import requests\n",
    "import time\n",
    "import lxml\n",
    "from datetime import datetime, timedelta\n",
    "\n",
    "import yfinance as yf\n",
    "import stockstats\n",
    "\n",
    "import unicodedata\n",
    "import json\n",
    "from textblob import TextBlob\n",
    "\n",
    "from sklearn.preprocessing import StandardScaler, MinMaxScaler\n",
    "from sklearn.model_selection import GridSearchCV\n",
    "from sklearn.linear_model import LogisticRegression\n",
    "from sklearn.ensemble import RandomForestClassifier\n",
    "from sklearn.ensemble import GradientBoostingClassifier, IsolationForest,VotingClassifier\n",
    "from sklearn.model_selection import StratifiedShuffleSplit, train_test_split\n",
    "from sklearn.tree import export_graphviz, DecisionTreeClassifier, tree\n",
    "import graphviz \n",
    "from sklearn import tree\n",
    "from sklearn.neural_network import MLPClassifier\n",
    "from xgboost import XGBClassifier\n",
    "\n",
    "from sklearn.metrics import roc_auc_score, confusion_matrix, classification_report\n",
    "from sklearn.metrics import classification_report, accuracy_score"
   ]
  },
  {
   "cell_type": "markdown",
   "metadata": {},
   "source": [
    "# Read Data"
   ]
  },
  {
   "cell_type": "code",
   "execution_count": 2,
   "metadata": {},
   "outputs": [],
   "source": [
    "stock_without_absolute = pd.read_pickle('./data/stock_without_absolute.pkl')\n",
    "stock_with_absolute = pd.read_pickle('./data/stock_with_absolute.pkl')\n",
    "\n",
    "label_abs_1d = pd.read_pickle('./data/label_abs_1d.pkl')\n",
    "label_abs_7d = pd.read_pickle('./data/label_abs_7d.pkl')\n",
    "label_abs_30d = pd.read_pickle('./data/label_abs_30d.pkl')\n",
    "\n",
    "label_value_1d = pd.read_pickle('./data/label_value_1d.pkl')\n",
    "label_value_7d = pd.read_pickle('./data/label_value_7d.pkl')\n",
    "label_value_30d = pd.read_pickle('./data/label_value_30d.pkl')\n"
   ]
  },
  {
   "cell_type": "code",
   "execution_count": 3,
   "metadata": {},
   "outputs": [],
   "source": [
    "# stock_without_absolute.corr().style.background_gradient(cmap='coolwarm').set_precision(2)"
   ]
  },
  {
   "cell_type": "markdown",
   "metadata": {},
   "source": [
    "# Result Evaluation"
   ]
  },
  {
   "cell_type": "code",
   "execution_count": 4,
   "metadata": {},
   "outputs": [],
   "source": [
    "def create_grid_model(classifier, param_grid):\n",
    "    cv = StratifiedShuffleSplit(n_splits=5, test_size=0.1)\n",
    "    grid_model = GridSearchCV(classifier, param_grid=param_grid, cv=cv, n_jobs=-1,verbose=1, scoring='accuracy')\n",
    "    return grid_model"
   ]
  },
  {
   "cell_type": "code",
   "execution_count": 32,
   "metadata": {},
   "outputs": [],
   "source": [
    "def result(grid_model, train_data, predicted_test, test_label, predicted_train, train_label, file_name, decision_function, clf_name=\"Classifier\"):\n",
    "    print(\"Results for \", clf_name, \": \")\n",
    "    print()\n",
    "    print(\"The best parameters are %s\" % (grid_model.best_params_))\n",
    "    acc_train = accuracy_score(train_label, predicted_train)\n",
    "    acc_test = accuracy_score(test_label, predicted_test)\n",
    "    print(\"The Train Accuracy  %0.3f\" % (acc_train))\n",
    "    print(\"The Validation Accuracy   %0.3f\" % (grid_model.best_score_))\n",
    "    print(\"The Test Accuracy   %0.3f\" % (acc_test ))\n",
    "    \n",
    "    if (clf_name[:6] == 'Random') | (clf_name == 'DecisionTree'):\n",
    "        test_label_roc = np.zeros((len(test_label),2) )\n",
    "        for i,v in enumerate(test_label):\n",
    "            if v > 0.5:\n",
    "                test_label_roc[i,1] = 1\n",
    "            else:\n",
    "                test_label_roc[i,0] = 1\n",
    "    \n",
    "    \n",
    "    if (clf_name[:6] == 'Random') | (clf_name == 'DecisionTree'):\n",
    "        print(\"AUC ROC : %0.3f\" %( roc_auc_score(test_label_roc, decision_function)))\n",
    "    else:\n",
    "        print(\"AUC ROC : %0.3f\" %( roc_auc_score(test_label, decision_function) ))\n",
    "\n",
    "    print(\"The mean training time of %f\" % (np.mean(grid_model.cv_results_['mean_fit_time'], axis=0)) )\n",
    "    print(\"The mean test time of %f\" % (np.mean(grid_model.cv_results_['mean_score_time'], axis=0)) )\n",
    "    # confusion matrix\n",
    "    print(\"confusion matrix / precision recall scores\")\n",
    "    print ( confusion_matrix(test_label, predicted_test) )\n",
    "    print ( classification_report(test_label, predicted_test) )\n",
    "    rfc_model.best_estimator_.feature_importances_\n",
    "    \n",
    "    #feature importance\n",
    "    feats = {} # a dict to hold feature_name: feature_importance\n",
    "    for feature, importance in zip(train_data.columns, grid_model.best_estimator_.feature_importances_):\n",
    "        feats[feature] = importance #add the name/value pair \n",
    "    importances = pd.DataFrame.from_dict(feats, orient='index').rename(columns={0: 'Gini-importance'})\n",
    "    importances = importances.sort_values(by='Gini-importance', ascending=False)\n",
    "    print(importances.head(7)) # print the top 7 features with greater importance\n",
    "    \n",
    "    f = open(file_name+'.txt','w')\n",
    "    f.write(\"The best parameters are %s\\n\"% (grid_model.best_params_))\n",
    "    f.write(\"The Train Accuracy %0.3f\\n\" % (acc_train))\n",
    "    if (clf_name[:6] == 'Random') | (clf_name == 'DecisionTree'):\n",
    "        f.write(\"AUC ROC : %0.3f\\n\" %( roc_auc_score(test_label_roc, decision_function) ))\n",
    "    else:\n",
    "        f.write(\"AUC ROC : %0.3f\\n\" %( roc_auc_score(test_label, decision_function) ))\n",
    "\n",
    "    f.write(\"The Validation Accuracy %0.3f\\n\" % (grid_model.best_score_))\n",
    "    f.write(\"The Test Accuracy %0.3f\\n\" % (acc_test ))\n",
    "    f.write( str(confusion_matrix(test_label, predicted_test)) + \"\\n\")\n",
    "    f.write( str(classification_report(test_label, predicted_test)) + \"\\n\\n\")\n",
    "    f.write(json.dumps(feats))\n",
    "    f.close()\n",
    "    \n",
    "    importances.to_csv(file_name+'.csv')\n",
    "    \n",
    "    pass"
   ]
  },
  {
   "cell_type": "markdown",
   "metadata": {},
   "source": [
    "# DecisionTree Classifier"
   ]
  },
  {
   "cell_type": "code",
   "execution_count": 6,
   "metadata": {},
   "outputs": [],
   "source": [
    "# 改這些地方： train_data, label, filename, clfname"
   ]
  },
  {
   "cell_type": "code",
   "execution_count": 33,
   "metadata": {},
   "outputs": [
    {
     "name": "stdout",
     "output_type": "stream",
     "text": [
      "Fitting 5 folds for each of 120 candidates, totalling 600 fits\n"
     ]
    },
    {
     "name": "stderr",
     "output_type": "stream",
     "text": [
      "[Parallel(n_jobs=-1)]: Using backend LokyBackend with 8 concurrent workers.\n",
      "[Parallel(n_jobs=-1)]: Done  58 tasks      | elapsed:    0.3s\n"
     ]
    },
    {
     "name": "stdout",
     "output_type": "stream",
     "text": [
      "Results for  DecisionTree : \n",
      "\n",
      "The best parameters are {'max_depth': 9, 'max_features': 2, 'min_samples_split': 20}\n",
      "The Train Accuracy  0.623\n",
      "The Validation Accuracy   0.550\n",
      "The Test Accuracy   0.518\n",
      "AUC ROC : 0.505\n",
      "The mean training time of 0.133941\n",
      "The mean test time of 0.001585\n",
      "confusion matrix / precision recall scores\n",
      "[[46 60]\n",
      " [59 82]]\n",
      "              precision    recall  f1-score   support\n",
      "\n",
      "           0       0.44      0.43      0.44       106\n",
      "           1       0.58      0.58      0.58       141\n",
      "\n",
      "    accuracy                           0.52       247\n",
      "   macro avg       0.51      0.51      0.51       247\n",
      "weighted avg       0.52      0.52      0.52       247\n",
      "\n",
      "                             Gini-importance\n",
      "boll_lb_-1_d                        0.061162\n",
      "adj close                           0.058876\n",
      "gold_open                           0.054430\n",
      "kdjj                                0.048231\n",
      "y5bond_close_-1_r                   0.047561\n",
      "sp500_close_-6_r                    0.045850\n",
      "sp500_open_close_diff_ratio         0.040615\n"
     ]
    },
    {
     "name": "stderr",
     "output_type": "stream",
     "text": [
      "[Parallel(n_jobs=-1)]: Done 600 out of 600 | elapsed:   11.5s finished\n"
     ]
    }
   ],
   "source": [
    "# stock_with_absolute, predict 1 day trend \n",
    "rfc = DecisionTreeClassifier() # classifier\n",
    "max_depth = range(1,20,2)\n",
    "max_features = [2 ,'sqrt', None]\n",
    "min_samples_split = range(10,50,10)\n",
    "\n",
    "# param to grid search\n",
    "param_grid = dict(max_depth=max_depth, max_features=max_features, min_samples_split=min_samples_split)\n",
    "\n",
    "# train data and label\n",
    "train_data = stock_with_absolute\n",
    "label = label_abs_1d\n",
    "\n",
    "X_train, X_test, y_train, y_test = train_test_split(train_data, label, test_size=0.1, random_state=42)\n",
    "scaler = MinMaxScaler()\n",
    "X_train = scaler.fit_transform(X_train)\n",
    "X_test = scaler.transform(X_test)\n",
    "\n",
    "rfc_model = create_grid_model(rfc, param_grid)\n",
    "rfc_model.fit(X_train, y_train)\n",
    "\n",
    "predicted_test = rfc_model.predict(X_test)\n",
    "predicted_train = rfc_model.predict(X_train)\n",
    "decision_function = rfc_model.predict_proba(X_test)\n",
    "\n",
    "result(rfc_model, train_data, predicted_test, y_test, predicted_train, y_train, \n",
    "       \"./results/decision_with_ABS_pred_1_d\", decision_function, clf_name=\"DecisionTree\")\n",
    "\n",
    "# dot_data = tree.export_graphviz(model.best_estimator_, \n",
    "#         out_file=None, \n",
    "#         feature_names=train_data.columns, # the feature names.\n",
    "#         filled=True, # Whether to fill in the boxes with colours.\n",
    "#         rounded=True, # Whether to round the corners of the boxes.\n",
    "#         special_characters=True)\n",
    "# graph = graphviz.Source(dot_data)\n",
    "# graph.render('tree')\n",
    "# graph"
   ]
  },
  {
   "cell_type": "code",
   "execution_count": 34,
   "metadata": {},
   "outputs": [
    {
     "name": "stderr",
     "output_type": "stream",
     "text": [
      "[Parallel(n_jobs=-1)]: Using backend LokyBackend with 8 concurrent workers.\n"
     ]
    },
    {
     "name": "stdout",
     "output_type": "stream",
     "text": [
      "Fitting 5 folds for each of 120 candidates, totalling 600 fits\n"
     ]
    },
    {
     "name": "stderr",
     "output_type": "stream",
     "text": [
      "[Parallel(n_jobs=-1)]: Done  56 tasks      | elapsed:    0.2s\n"
     ]
    },
    {
     "name": "stdout",
     "output_type": "stream",
     "text": [
      "Results for  DecisionTree : \n",
      "\n",
      "The best parameters are {'max_depth': 3, 'max_features': 2, 'min_samples_split': 40}\n",
      "The Train Accuracy  0.556\n",
      "The Validation Accuracy   0.555\n",
      "The Test Accuracy   0.607\n",
      "AUC ROC : 0.564\n",
      "The mean training time of 0.113087\n",
      "The mean test time of 0.001976\n",
      "confusion matrix / precision recall scores\n",
      "[[ 30  76]\n",
      " [ 21 120]]\n",
      "              precision    recall  f1-score   support\n",
      "\n",
      "           0       0.59      0.28      0.38       106\n",
      "           1       0.61      0.85      0.71       141\n",
      "\n",
      "    accuracy                           0.61       247\n",
      "   macro avg       0.60      0.57      0.55       247\n",
      "weighted avg       0.60      0.61      0.57       247\n",
      "\n",
      "                     Gini-importance\n",
      "wr_6                        0.238614\n",
      "sp500_change                0.152456\n",
      "volume_delta                0.149387\n",
      "open_close_diff             0.135848\n",
      "rsi_6                       0.117565\n",
      "high_low_diff_ratio         0.114146\n",
      "gold_close_-1_r             0.091984\n"
     ]
    },
    {
     "name": "stderr",
     "output_type": "stream",
     "text": [
      "[Parallel(n_jobs=-1)]: Done 600 out of 600 | elapsed:   10.0s finished\n"
     ]
    }
   ],
   "source": [
    "# stock_without_absolute, predict 1 day trend \n",
    "rfc = DecisionTreeClassifier() # classifier\n",
    "max_depth = range(1,20,2)\n",
    "max_features = [2 ,'sqrt', None]\n",
    "min_samples_split = range(10,50,10)\n",
    "\n",
    "# param to grid search\n",
    "param_grid = dict(max_depth=max_depth, max_features=max_features, min_samples_split=min_samples_split)\n",
    "\n",
    "# train data and label\n",
    "train_data = stock_without_absolute\n",
    "label = label_abs_1d\n",
    "\n",
    "X_train, X_test, y_train, y_test = train_test_split(train_data, label, test_size=0.1, random_state=42)\n",
    "scaler = MinMaxScaler()\n",
    "X_train = scaler.fit_transform(X_train)\n",
    "X_test = scaler.transform(X_test)\n",
    "\n",
    "rfc_model = create_grid_model(rfc, param_grid)\n",
    "rfc_model.fit(X_train, y_train)\n",
    "\n",
    "predicted_test = rfc_model.predict(X_test)\n",
    "predicted_train = rfc_model.predict(X_train)\n",
    "decision_function = rfc_model.predict_proba(X_test)\n",
    "\n",
    "result(rfc_model, train_data, predicted_test, y_test, predicted_train, y_train, \n",
    "       \"./results/decision_without_ABS_pred_1_d\", decision_function, clf_name=\"DecisionTree\")"
   ]
  },
  {
   "cell_type": "code",
   "execution_count": 35,
   "metadata": {},
   "outputs": [
    {
     "name": "stderr",
     "output_type": "stream",
     "text": [
      "[Parallel(n_jobs=-1)]: Using backend LokyBackend with 8 concurrent workers.\n"
     ]
    },
    {
     "name": "stdout",
     "output_type": "stream",
     "text": [
      "Fitting 5 folds for each of 120 candidates, totalling 600 fits\n"
     ]
    },
    {
     "name": "stderr",
     "output_type": "stream",
     "text": [
      "[Parallel(n_jobs=-1)]: Done  58 tasks      | elapsed:    0.3s\n",
      "[Parallel(n_jobs=-1)]: Done 544 tasks      | elapsed:    9.3s\n"
     ]
    },
    {
     "name": "stdout",
     "output_type": "stream",
     "text": [
      "Results for  DecisionTree : \n",
      "\n",
      "The best parameters are {'max_depth': 19, 'max_features': 'sqrt', 'min_samples_split': 40}\n",
      "The Train Accuracy  0.830\n",
      "The Validation Accuracy   0.696\n",
      "The Test Accuracy   0.729\n",
      "AUC ROC : 0.760\n",
      "The mean training time of 0.136070\n",
      "The mean test time of 0.001672\n",
      "confusion matrix / precision recall scores\n",
      "[[ 70  40]\n",
      " [ 27 110]]\n",
      "              precision    recall  f1-score   support\n",
      "\n",
      "           0       0.72      0.64      0.68       110\n",
      "           1       0.73      0.80      0.77       137\n",
      "\n",
      "    accuracy                           0.73       247\n",
      "   macro avg       0.73      0.72      0.72       247\n",
      "weighted avg       0.73      0.73      0.73       247\n",
      "\n",
      "                  Gini-importance\n",
      "gold_close               0.075517\n",
      "close                    0.056381\n",
      "sp500_high               0.052367\n",
      "atr                      0.051161\n",
      "y5bond_adj close         0.041469\n",
      "macds                    0.039338\n",
      "y5bond_low               0.032315\n"
     ]
    },
    {
     "name": "stderr",
     "output_type": "stream",
     "text": [
      "[Parallel(n_jobs=-1)]: Done 600 out of 600 | elapsed:   11.0s finished\n"
     ]
    }
   ],
   "source": [
    "# stock_with_absolute, predict 7 day trend \n",
    "rfc = DecisionTreeClassifier() # classifier\n",
    "max_depth = range(1,20,2)\n",
    "max_features = [2 ,'sqrt', None]\n",
    "min_samples_split = range(10,50,10)\n",
    "\n",
    "# param to grid search\n",
    "param_grid = dict(max_depth=max_depth, max_features=max_features, min_samples_split=min_samples_split)\n",
    "\n",
    "# train data and label\n",
    "train_data = stock_with_absolute\n",
    "label = label_abs_7d\n",
    "\n",
    "X_train, X_test, y_train, y_test = train_test_split(train_data, label, test_size=0.1, random_state=42)\n",
    "scaler = MinMaxScaler()\n",
    "X_train = scaler.fit_transform(X_train)\n",
    "X_test = scaler.transform(X_test)\n",
    "\n",
    "rfc_model = create_grid_model(rfc, param_grid)\n",
    "rfc_model.fit(X_train, y_train)\n",
    "\n",
    "predicted_test = rfc_model.predict(X_test)\n",
    "predicted_train = rfc_model.predict(X_train)\n",
    "decision_function = rfc_model.predict_proba(X_test)\n",
    "\n",
    "result(rfc_model, train_data, predicted_test, y_test, predicted_train, y_train, \n",
    "       \"./results/decision_with_ABS_pred_7_d\", decision_function, clf_name=\"DecisionTree\")"
   ]
  },
  {
   "cell_type": "code",
   "execution_count": 36,
   "metadata": {},
   "outputs": [
    {
     "name": "stderr",
     "output_type": "stream",
     "text": [
      "[Parallel(n_jobs=-1)]: Using backend LokyBackend with 8 concurrent workers.\n"
     ]
    },
    {
     "name": "stdout",
     "output_type": "stream",
     "text": [
      "Fitting 5 folds for each of 120 candidates, totalling 600 fits\n"
     ]
    },
    {
     "name": "stderr",
     "output_type": "stream",
     "text": [
      "[Parallel(n_jobs=-1)]: Done  56 tasks      | elapsed:    0.2s\n",
      "[Parallel(n_jobs=-1)]: Done 600 out of 600 | elapsed:    8.9s finished\n"
     ]
    },
    {
     "name": "stdout",
     "output_type": "stream",
     "text": [
      "Results for  DecisionTree : \n",
      "\n",
      "The best parameters are {'max_depth': 15, 'max_features': None, 'min_samples_split': 10}\n",
      "The Train Accuracy  0.931\n",
      "The Validation Accuracy   0.659\n",
      "The Test Accuracy   0.559\n",
      "AUC ROC : 0.574\n",
      "The mean training time of 0.101688\n",
      "The mean test time of 0.001774\n",
      "confusion matrix / precision recall scores\n",
      "[[50 60]\n",
      " [49 88]]\n",
      "              precision    recall  f1-score   support\n",
      "\n",
      "           0       0.51      0.45      0.48       110\n",
      "           1       0.59      0.64      0.62       137\n",
      "\n",
      "    accuracy                           0.56       247\n",
      "   macro avg       0.55      0.55      0.55       247\n",
      "weighted avg       0.55      0.56      0.56       247\n",
      "\n",
      "                           Gini-importance\n",
      "atr                               0.110420\n",
      "boll_-1_d                         0.055412\n",
      "vr                                0.041831\n",
      "sp500_high_low_diff_ratio         0.039833\n",
      "macds                             0.037373\n",
      "macd                              0.036212\n",
      "macdh                             0.033757\n"
     ]
    }
   ],
   "source": [
    "# stock_without_absolute, predict 7 day trend \n",
    "rfc = DecisionTreeClassifier() # classifier\n",
    "max_depth = range(1,20,2)\n",
    "max_features = [2 ,'sqrt', None]\n",
    "min_samples_split = range(10,50,10)\n",
    "\n",
    "# param to grid search\n",
    "param_grid = dict(max_depth=max_depth, max_features=max_features, min_samples_split=min_samples_split)\n",
    "\n",
    "# train data and label\n",
    "train_data = stock_without_absolute\n",
    "label = label_abs_7d\n",
    "\n",
    "X_train, X_test, y_train, y_test = train_test_split(train_data, label, test_size=0.1, random_state=42)\n",
    "scaler = MinMaxScaler()\n",
    "X_train = scaler.fit_transform(X_train)\n",
    "X_test = scaler.transform(X_test)\n",
    "\n",
    "rfc_model = create_grid_model(rfc, param_grid)\n",
    "rfc_model.fit(X_train, y_train)\n",
    "\n",
    "predicted_test = rfc_model.predict(X_test)\n",
    "predicted_train = rfc_model.predict(X_train)\n",
    "decision_function = rfc_model.predict_proba(X_test)\n",
    "\n",
    "result(rfc_model, train_data, predicted_test, y_test, predicted_train, y_train, \n",
    "       \"./results/decision_without_ABS_pred_7_d\", decision_function, clf_name=\"DecisionTree\")"
   ]
  },
  {
   "cell_type": "code",
   "execution_count": 37,
   "metadata": {},
   "outputs": [
    {
     "name": "stdout",
     "output_type": "stream",
     "text": [
      "Fitting 5 folds for each of 120 candidates, totalling 600 fits\n"
     ]
    },
    {
     "name": "stderr",
     "output_type": "stream",
     "text": [
      "[Parallel(n_jobs=-1)]: Using backend LokyBackend with 8 concurrent workers.\n",
      "[Parallel(n_jobs=-1)]: Done  56 tasks      | elapsed:    0.3s\n",
      "[Parallel(n_jobs=-1)]: Done 600 out of 600 | elapsed:   10.0s finished\n"
     ]
    },
    {
     "name": "stdout",
     "output_type": "stream",
     "text": [
      "Results for  DecisionTree : \n",
      "\n",
      "The best parameters are {'max_depth': 11, 'max_features': None, 'min_samples_split': 10}\n",
      "The Train Accuracy  0.961\n",
      "The Validation Accuracy   0.856\n",
      "The Test Accuracy   0.822\n",
      "AUC ROC : 0.856\n",
      "The mean training time of 0.123855\n",
      "The mean test time of 0.001694\n",
      "confusion matrix / precision recall scores\n",
      "[[ 57  24]\n",
      " [ 20 146]]\n",
      "              precision    recall  f1-score   support\n",
      "\n",
      "           0       0.74      0.70      0.72        81\n",
      "           1       0.86      0.88      0.87       166\n",
      "\n",
      "    accuracy                           0.82       247\n",
      "   macro avg       0.80      0.79      0.80       247\n",
      "weighted avg       0.82      0.82      0.82       247\n",
      "\n",
      "             Gini-importance\n",
      "gold_low            0.083499\n",
      "atr                 0.082974\n",
      "low                 0.060818\n",
      "gold_open           0.052275\n",
      "y10bond_low         0.050467\n",
      "dma                 0.049719\n",
      "sp500_open          0.042161\n"
     ]
    }
   ],
   "source": [
    "# stock_with_absolute, predict 30 day trend \n",
    "rfc = DecisionTreeClassifier() # classifier\n",
    "max_depth = range(1,20,2)\n",
    "max_features = [2 ,'sqrt', None]\n",
    "min_samples_split = range(10,50,10)\n",
    "\n",
    "# param to grid search\n",
    "param_grid = dict(max_depth=max_depth, max_features=max_features, min_samples_split=min_samples_split)\n",
    "\n",
    "# train data and label\n",
    "train_data = stock_with_absolute\n",
    "label = label_abs_30d\n",
    "\n",
    "X_train, X_test, y_train, y_test = train_test_split(train_data, label, test_size=0.1, random_state=42)\n",
    "scaler = MinMaxScaler()\n",
    "X_train = scaler.fit_transform(X_train)\n",
    "X_test = scaler.transform(X_test)\n",
    "\n",
    "rfc_model = create_grid_model(rfc, param_grid)\n",
    "rfc_model.fit(X_train, y_train)\n",
    "\n",
    "predicted_test = rfc_model.predict(X_test)\n",
    "predicted_train = rfc_model.predict(X_train)\n",
    "decision_function = rfc_model.predict_proba(X_test)\n",
    "\n",
    "result(rfc_model, train_data, predicted_test, y_test, predicted_train, y_train, \n",
    "       \"./results/decision_with_ABS_pred_30_d\", decision_function, clf_name=\"DecisionTree\")"
   ]
  },
  {
   "cell_type": "code",
   "execution_count": 38,
   "metadata": {},
   "outputs": [
    {
     "name": "stdout",
     "output_type": "stream",
     "text": [
      "Fitting 5 folds for each of 120 candidates, totalling 600 fits\n"
     ]
    },
    {
     "name": "stderr",
     "output_type": "stream",
     "text": [
      "[Parallel(n_jobs=-1)]: Using backend LokyBackend with 8 concurrent workers.\n",
      "[Parallel(n_jobs=-1)]: Done  56 tasks      | elapsed:    0.3s\n"
     ]
    },
    {
     "name": "stdout",
     "output_type": "stream",
     "text": [
      "Results for  DecisionTree : \n",
      "\n",
      "The best parameters are {'max_depth': 5, 'max_features': None, 'min_samples_split': 20}\n",
      "The Train Accuracy  0.755\n",
      "The Validation Accuracy   0.709\n",
      "The Test Accuracy   0.733\n",
      "AUC ROC : 0.705\n",
      "The mean training time of 0.093047\n",
      "The mean test time of 0.001544\n",
      "confusion matrix / precision recall scores\n",
      "[[ 26  55]\n",
      " [ 11 155]]\n",
      "              precision    recall  f1-score   support\n",
      "\n",
      "           0       0.70      0.32      0.44        81\n",
      "           1       0.74      0.93      0.82       166\n",
      "\n",
      "    accuracy                           0.73       247\n",
      "   macro avg       0.72      0.63      0.63       247\n",
      "weighted avg       0.73      0.73      0.70       247\n",
      "\n",
      "                    Gini-importance\n",
      "atr                        0.327704\n",
      "macds                      0.189032\n",
      "dma                        0.151851\n",
      "vr                         0.069939\n",
      "y10bond_close_-6_r         0.054096\n",
      "close_-6_r                 0.032922\n",
      "rsi_12                     0.031547\n"
     ]
    },
    {
     "name": "stderr",
     "output_type": "stream",
     "text": [
      "[Parallel(n_jobs=-1)]: Done 600 out of 600 | elapsed:    8.1s finished\n"
     ]
    }
   ],
   "source": [
    "# stock_without_absolute, predict 30 day trend \n",
    "rfc = DecisionTreeClassifier() # classifier\n",
    "max_depth = range(1,20,2)\n",
    "max_features = [2 ,'sqrt', None]\n",
    "min_samples_split = range(10,50,10)\n",
    "\n",
    "# param to grid search\n",
    "param_grid = dict(max_depth=max_depth, max_features=max_features, min_samples_split=min_samples_split)\n",
    "\n",
    "# train data and label\n",
    "train_data = stock_without_absolute\n",
    "label = label_abs_30d\n",
    "\n",
    "X_train, X_test, y_train, y_test = train_test_split(train_data, label, test_size=0.1, random_state=42)\n",
    "scaler = MinMaxScaler()\n",
    "X_train = scaler.fit_transform(X_train)\n",
    "X_test = scaler.transform(X_test)\n",
    "\n",
    "rfc_model = create_grid_model(rfc, param_grid)\n",
    "rfc_model.fit(X_train, y_train)\n",
    "\n",
    "predicted_test = rfc_model.predict(X_test)\n",
    "predicted_train = rfc_model.predict(X_train)\n",
    "decision_function = rfc_model.predict_proba(X_test)\n",
    "\n",
    "result(rfc_model, train_data, predicted_test, y_test, predicted_train, y_train, \n",
    "       \"./results/decision_without_ABS_pred_30_d\", decision_function, clf_name=\"DecisionTree\")"
   ]
  },
  {
   "cell_type": "code",
   "execution_count": null,
   "metadata": {},
   "outputs": [],
   "source": []
  },
  {
   "cell_type": "code",
   "execution_count": null,
   "metadata": {},
   "outputs": [],
   "source": []
  },
  {
   "cell_type": "code",
   "execution_count": null,
   "metadata": {},
   "outputs": [],
   "source": []
  },
  {
   "cell_type": "code",
   "execution_count": null,
   "metadata": {},
   "outputs": [],
   "source": []
  },
  {
   "cell_type": "code",
   "execution_count": null,
   "metadata": {},
   "outputs": [],
   "source": []
  },
  {
   "cell_type": "code",
   "execution_count": null,
   "metadata": {},
   "outputs": [],
   "source": []
  },
  {
   "cell_type": "code",
   "execution_count": null,
   "metadata": {},
   "outputs": [],
   "source": []
  },
  {
   "cell_type": "code",
   "execution_count": null,
   "metadata": {},
   "outputs": [],
   "source": []
  },
  {
   "cell_type": "code",
   "execution_count": null,
   "metadata": {},
   "outputs": [],
   "source": []
  },
  {
   "cell_type": "code",
   "execution_count": null,
   "metadata": {},
   "outputs": [],
   "source": []
  },
  {
   "cell_type": "code",
   "execution_count": null,
   "metadata": {},
   "outputs": [],
   "source": []
  }
 ],
 "metadata": {
  "kernelspec": {
   "display_name": "Python 3",
   "language": "python",
   "name": "python3"
  },
  "language_info": {
   "codemirror_mode": {
    "name": "ipython",
    "version": 3
   },
   "file_extension": ".py",
   "mimetype": "text/x-python",
   "name": "python",
   "nbconvert_exporter": "python",
   "pygments_lexer": "ipython3",
   "version": "3.6.10"
  }
 },
 "nbformat": 4,
 "nbformat_minor": 4
}
