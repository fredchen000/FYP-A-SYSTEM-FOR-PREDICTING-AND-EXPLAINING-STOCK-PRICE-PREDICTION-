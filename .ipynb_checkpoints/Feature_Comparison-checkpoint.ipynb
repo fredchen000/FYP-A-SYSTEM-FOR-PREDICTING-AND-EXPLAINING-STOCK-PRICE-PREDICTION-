{
 "cells": [
  {
   "cell_type": "markdown",
   "metadata": {},
   "source": [
    "# Library import"
   ]
  },
  {
   "cell_type": "code",
   "execution_count": 28,
   "metadata": {},
   "outputs": [],
   "source": [
    "import pandas as pd\n",
    "import numpy as np\n",
    "\n",
    "import bs4 as bs\n",
    "import pickle\n",
    "import requests\n",
    "import time\n",
    "import lxml\n",
    "from datetime import datetime, timedelta\n",
    "\n",
    "import yfinance as yf\n",
    "import stockstats\n",
    "\n",
    "import unicodedata\n",
    "import json\n",
    "from textblob import TextBlob\n",
    "\n",
    "from sklearn.preprocessing import StandardScaler, MinMaxScaler\n",
    "from sklearn.model_selection import GridSearchCV\n",
    "from sklearn.ensemble import AdaBoostClassifier\n",
    "from sklearn.ensemble import RandomForestClassifier\n",
    "from sklearn.ensemble import GradientBoostingClassifier, IsolationForest,VotingClassifier\n",
    "from sklearn.model_selection import StratifiedShuffleSplit, train_test_split\n",
    "from sklearn.tree import export_graphviz\n",
    "from sklearn import tree\n",
    "from sklearn.neural_network import MLPClassifier\n",
    "from xgboost import XGBClassifier\n",
    "\n",
    "from sklearn.metrics import roc_auc_score, confusion_matrix, classification_report\n",
    "from sklearn.metrics import classification_report, accuracy_score"
   ]
  },
  {
   "cell_type": "markdown",
   "metadata": {},
   "source": [
    "# Read Data"
   ]
  },
  {
   "cell_type": "code",
   "execution_count": 29,
   "metadata": {},
   "outputs": [],
   "source": [
    "stock_without_absolute = pd.read_pickle('./data/stock_without_absolute.pkl')\n",
    "stock_with_absolute = pd.read_pickle('./data/stock_with_absolute.pkl')\n",
    "\n",
    "label_abs_1d = pd.read_pickle('./data/label_abs_1d.pkl')\n",
    "label_abs_7d = pd.read_pickle('./data/label_abs_7d.pkl')\n",
    "label_abs_30d = pd.read_pickle('./data/label_abs_30d.pkl')\n",
    "\n",
    "label_value_1d = pd.read_pickle('./data/label_value_1d.pkl')\n",
    "label_value_7d = pd.read_pickle('./data/label_value_7d.pkl')\n",
    "label_value_30d = pd.read_pickle('./data/label_value_30d.pkl')\n"
   ]
  },
  {
   "cell_type": "markdown",
   "metadata": {},
   "source": [
    "# Result Evaluation"
   ]
  },
  {
   "cell_type": "code",
   "execution_count": 42,
   "metadata": {},
   "outputs": [],
   "source": [
    "def result(grid_model, train_data, train_label, test_data, test_label, clf_name=\"Classifier\"):\n",
    "    predicted_test = grid_model.predict(test_data)\n",
    "    predicted_train = grid_model.predict(train_data)\n",
    "    decision_function = grid_model.predict_proba(test_data)\n",
    "    \n",
    "    print(\"Results for \", clf_name, \": \")\n",
    "    acc_train = accuracy_score(train_label, predicted_train)\n",
    "    acc_test = accuracy_score(test_label, predicted_test)\n",
    "    print(\"The Train Accuracy  %0.3f\" % (acc_train))\n",
    "    print(\"The Test Accuracy   %0.3f\" % (acc_test ))\n",
    "\n",
    "    test_label_roc = np.zeros((len(test_label),2) )\n",
    "    for i,v in enumerate(test_label):\n",
    "        if v > 0.5:\n",
    "            test_label_roc[i,1] = 1\n",
    "        else:\n",
    "            test_label_roc[i,0] = 1\n",
    "                \n",
    "    print(\"AUC ROC : %0.3f\" %( roc_auc_score(test_label_roc, decision_function) ))\n",
    "    # confusion matrix\n",
    "    print(\"confusion matrix / precision recall scores\")\n",
    "    print ( confusion_matrix(test_label, predicted_test) )\n",
    "    print ( classification_report(test_label, predicted_test) )\n",
    "    \n",
    "    pass# Result Evaluation"
   ]
  },
  {
   "cell_type": "markdown",
   "metadata": {},
   "source": [
    "##  Feature Comparison"
   ]
  },
  {
   "cell_type": "code",
   "execution_count": 43,
   "metadata": {},
   "outputs": [],
   "source": [
    "finacial_list = ['change', 'open_delta', 'close_delta', 'volume_delta',\n",
    "'high_low_diff_ratio', 'open_close_diff_ratio', 'close_-1_r',\n",
    "'close_-6_r', 'kdjk', 'kdjd', 'kdjj', 'macd', 'macds', 'macdh', 'rsi_6',\n",
    "'rsi_12', 'wr_6', 'wr_12', 'cci', 'atr', 'dma', 'vr', 'boll_-1_d',\n",
    "'boll_ub_-1_d', 'boll_lb_-1_d', 'boll_k_diff', 'high_low_diff',\n",
    "'open_close_diff', 'open', 'high', 'low', 'close', 'adj close', 'volume']\n",
    "\n",
    "news_list = ['news_des_score', 'sp500_open']\n",
    "\n",
    "external_list = ['sp500_open',\n",
    "       'sp500_high', 'sp500_low', 'sp500_close', 'sp500_adj close',\n",
    "       'sp500_volume', 'sp500_high_low_diff', 'sp500_open_close_diff',\n",
    "       'sp500_high_low_diff_ratio', 'sp500_open_close_diff_ratio',\n",
    "       'sp500_change', 'sp500_close_delta', 'sp500_volume_delta',\n",
    "       'sp500_close_-1_r', 'sp500_close_-6_r', 'gold_open', 'gold_high',\n",
    "       'gold_low', 'gold_close', 'gold_adj close', 'gold_volume',\n",
    "       'gold_high_low_diff', 'gold_open_close_diff',\n",
    "       'gold_high_low_diff_ratio', 'gold_open_close_diff_ratio', 'gold_change',\n",
    "       'gold_close_delta', 'gold_volume_delta', 'gold_close_-1_r',\n",
    "       'gold_close_-6_r', 'y10bond_open', 'y10bond_high', 'y10bond_low',\n",
    "       'y10bond_close', 'y10bond_adj close', 'y10bond_high_low_diff',\n",
    "       'y10bond_open_close_diff', 'y10bond_high_low_diff_ratio',\n",
    "       'y10bond_open_close_diff_ratio', 'y10bond_change',\n",
    "       'y10bond_close_delta', 'y10bond_close_-1_r', 'y10bond_close_-6_r',\n",
    "       'y5bond_open', 'y5bond_high', 'y5bond_low', 'y5bond_close',\n",
    "       'y5bond_adj close', 'y5bond_high_low_diff', 'y5bond_open_close_diff',\n",
    "       'y5bond_high_low_diff_ratio', 'y5bond_open_close_diff_ratio',\n",
    "       'y5bond_change', 'y5bond_close_delta', 'y5bond_close_-1_r','y5bond_close_-6_r']"
   ]
  },
  {
   "cell_type": "code",
   "execution_count": 44,
   "metadata": {},
   "outputs": [],
   "source": [
    "def create_train_test(train_data, label):\n",
    "    X_train, X_test, y_train, y_test = train_test_split(train_data, label, test_size=0.1, random_state=42)\n",
    "    scaler = MinMaxScaler()\n",
    "    X_train = scaler.fit_transform(X_train)\n",
    "    X_test = scaler.transform(X_test)\n",
    "    return X_train, X_test, y_train, y_test"
   ]
  },
  {
   "cell_type": "code",
   "execution_count": 45,
   "metadata": {},
   "outputs": [],
   "source": [
    "best_param = {'gamma': 0.8, 'max_depth': 6, 'min_child_weight': 7, 'n_estimators': 500, 'n_jobs': -1}"
   ]
  },
  {
   "cell_type": "markdown",
   "metadata": {},
   "source": [
    "### Train the model with the best parameters received earlier in XGBoost.ipynb"
   ]
  },
  {
   "cell_type": "code",
   "execution_count": 46,
   "metadata": {},
   "outputs": [
    {
     "name": "stdout",
     "output_type": "stream",
     "text": [
      "Results for  Only Financial : \n",
      "The Train Accuracy  0.999\n",
      "The Test Accuracy   0.684\n",
      "AUC ROC : 0.779\n",
      "confusion matrix / precision recall scores\n",
      "[[ 58  52]\n",
      " [ 26 111]]\n",
      "              precision    recall  f1-score   support\n",
      "\n",
      "           0       0.69      0.53      0.60       110\n",
      "           1       0.68      0.81      0.74       137\n",
      "\n",
      "    accuracy                           0.68       247\n",
      "   macro avg       0.69      0.67      0.67       247\n",
      "weighted avg       0.69      0.68      0.68       247\n",
      "\n",
      "\n",
      "Results for  Only Sentiment : \n",
      "The Train Accuracy  0.729\n",
      "The Test Accuracy   0.607\n",
      "AUC ROC : 0.631\n",
      "confusion matrix / precision recall scores\n",
      "[[ 42  68]\n",
      " [ 29 108]]\n",
      "              precision    recall  f1-score   support\n",
      "\n",
      "           0       0.59      0.38      0.46       110\n",
      "           1       0.61      0.79      0.69       137\n",
      "\n",
      "    accuracy                           0.61       247\n",
      "   macro avg       0.60      0.59      0.58       247\n",
      "weighted avg       0.60      0.61      0.59       247\n",
      "\n",
      "\n",
      "Results for  Only External : \n",
      "The Train Accuracy  1.000\n",
      "The Test Accuracy   0.660\n",
      "AUC ROC : 0.714\n",
      "confusion matrix / precision recall scores\n",
      "[[ 51  59]\n",
      " [ 25 112]]\n",
      "              precision    recall  f1-score   support\n",
      "\n",
      "           0       0.67      0.46      0.55       110\n",
      "           1       0.65      0.82      0.73       137\n",
      "\n",
      "    accuracy                           0.66       247\n",
      "   macro avg       0.66      0.64      0.64       247\n",
      "weighted avg       0.66      0.66      0.65       247\n",
      "\n"
     ]
    }
   ],
   "source": [
    "# Only one category of feature\n",
    "train = stock_with_absolute[finacial_list]\n",
    "X_train, X_test, y_train, y_test = create_train_test(train, label_abs_7d)\n",
    "clfXGB = XGBClassifier(**best_param)\n",
    "clfXGB = clfXGB.fit(X_train, y_train)\n",
    "result(clfXGB, X_train, y_train, X_test, y_test, clf_name=\"Only Financial\")\n",
    "print()\n",
    "train = stock_with_absolute[news_list]\n",
    "X_train, X_test, y_train, y_test = create_train_test(train, label_abs_7d)\n",
    "clfXGB = XGBClassifier(**best_param)\n",
    "clfXGB = clfXGB.fit(X_train, y_train)\n",
    "result(clfXGB, X_train, y_train, X_test, y_test, clf_name=\"Only Sentiment\")\n",
    "print()\n",
    "train = stock_with_absolute[external_list]\n",
    "X_train, X_test, y_train, y_test = create_train_test(train, label_abs_7d)\n",
    "clfXGB = XGBClassifier(**best_param)\n",
    "clfXGB = clfXGB.fit(X_train, y_train)\n",
    "result(clfXGB, X_train, y_train, X_test, y_test, clf_name=\"Only External\")"
   ]
  },
  {
   "cell_type": "code",
   "execution_count": 47,
   "metadata": {},
   "outputs": [
    {
     "name": "stdout",
     "output_type": "stream",
     "text": [
      "Results for  Without Financial : \n",
      "The Train Accuracy  0.999\n",
      "The Test Accuracy   0.648\n",
      "AUC ROC : 0.717\n",
      "confusion matrix / precision recall scores\n",
      "[[ 54  56]\n",
      " [ 31 106]]\n",
      "              precision    recall  f1-score   support\n",
      "\n",
      "           0       0.64      0.49      0.55       110\n",
      "           1       0.65      0.77      0.71       137\n",
      "\n",
      "    accuracy                           0.65       247\n",
      "   macro avg       0.64      0.63      0.63       247\n",
      "weighted avg       0.65      0.65      0.64       247\n",
      "\n",
      "\n",
      "Results for  Without Sentiment : \n",
      "The Train Accuracy  1.000\n",
      "The Test Accuracy   0.753\n",
      "AUC ROC : 0.825\n",
      "confusion matrix / precision recall scores\n",
      "[[ 64  46]\n",
      " [ 15 122]]\n",
      "              precision    recall  f1-score   support\n",
      "\n",
      "           0       0.81      0.58      0.68       110\n",
      "           1       0.73      0.89      0.80       137\n",
      "\n",
      "    accuracy                           0.75       247\n",
      "   macro avg       0.77      0.74      0.74       247\n",
      "weighted avg       0.76      0.75      0.75       247\n",
      "\n",
      "\n",
      "Results for  Without External : \n",
      "The Train Accuracy  0.999\n",
      "The Test Accuracy   0.745\n",
      "AUC ROC : 0.807\n",
      "confusion matrix / precision recall scores\n",
      "[[ 67  43]\n",
      " [ 20 117]]\n",
      "              precision    recall  f1-score   support\n",
      "\n",
      "           0       0.77      0.61      0.68       110\n",
      "           1       0.73      0.85      0.79       137\n",
      "\n",
      "    accuracy                           0.74       247\n",
      "   macro avg       0.75      0.73      0.73       247\n",
      "weighted avg       0.75      0.74      0.74       247\n",
      "\n"
     ]
    }
   ],
   "source": [
    "# Only two category of feature\n",
    "train = stock_with_absolute[external_list+news_list]\n",
    "X_train, X_test, y_train, y_test = create_train_test(train, label_abs_7d)\n",
    "clfXGB = XGBClassifier(**best_param)\n",
    "clfXGB = clfXGB.fit(X_train, y_train)\n",
    "result(clfXGB, X_train, y_train, X_test, y_test, clf_name=\"Without Financial\")\n",
    "print()\n",
    "train = stock_with_absolute[finacial_list+external_list]\n",
    "X_train, X_test, y_train, y_test = create_train_test(train, label_abs_7d)\n",
    "clfXGB = XGBClassifier(**best_param)\n",
    "clfXGB = clfXGB.fit(X_train, y_train)\n",
    "result(clfXGB, X_train, y_train, X_test, y_test, clf_name=\"Without Sentiment\")\n",
    "print()\n",
    "train = stock_with_absolute[finacial_list+news_list]\n",
    "X_train, X_test, y_train, y_test = create_train_test(train, label_abs_7d)\n",
    "clfXGB = XGBClassifier(**best_param)\n",
    "clfXGB = clfXGB.fit(X_train, y_train)\n",
    "result(clfXGB, X_train, y_train, X_test, y_test, clf_name=\"Without External\")"
   ]
  },
  {
   "cell_type": "code",
   "execution_count": 48,
   "metadata": {},
   "outputs": [
    {
     "name": "stdout",
     "output_type": "stream",
     "text": [
      "Results for  Without Financial : \n",
      "The Train Accuracy  1.000\n",
      "The Test Accuracy   0.745\n",
      "AUC ROC : 0.820\n",
      "confusion matrix / precision recall scores\n",
      "[[ 66  44]\n",
      " [ 19 118]]\n",
      "              precision    recall  f1-score   support\n",
      "\n",
      "           0       0.78      0.60      0.68       110\n",
      "           1       0.73      0.86      0.79       137\n",
      "\n",
      "    accuracy                           0.74       247\n",
      "   macro avg       0.75      0.73      0.73       247\n",
      "weighted avg       0.75      0.74      0.74       247\n",
      "\n"
     ]
    }
   ],
   "source": [
    "# all\n",
    "train = stock_with_absolute\n",
    "X_train, X_test, y_train, y_test = create_train_test(train, label_abs_7d)\n",
    "clfXGB = XGBClassifier(**best_param)\n",
    "clfXGB = clfXGB.fit(X_train, y_train)\n",
    "result(clfXGB, X_train, y_train, X_test, y_test, clf_name=\"Without Financial\")"
   ]
  },
  {
   "cell_type": "code",
   "execution_count": null,
   "metadata": {},
   "outputs": [],
   "source": []
  },
  {
   "cell_type": "code",
   "execution_count": null,
   "metadata": {},
   "outputs": [],
   "source": []
  },
  {
   "cell_type": "code",
   "execution_count": null,
   "metadata": {},
   "outputs": [],
   "source": []
  },
  {
   "cell_type": "code",
   "execution_count": null,
   "metadata": {},
   "outputs": [],
   "source": []
  }
 ],
 "metadata": {
  "kernelspec": {
   "display_name": "Python 3",
   "language": "python",
   "name": "python3"
  },
  "language_info": {
   "codemirror_mode": {
    "name": "ipython",
    "version": 3
   },
   "file_extension": ".py",
   "mimetype": "text/x-python",
   "name": "python",
   "nbconvert_exporter": "python",
   "pygments_lexer": "ipython3",
   "version": "3.6.10"
  }
 },
 "nbformat": 4,
 "nbformat_minor": 4
}
