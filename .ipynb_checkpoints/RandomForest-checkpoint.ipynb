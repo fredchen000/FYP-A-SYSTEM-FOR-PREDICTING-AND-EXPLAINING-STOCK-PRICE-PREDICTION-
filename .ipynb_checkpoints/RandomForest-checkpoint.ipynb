{
 "cells": [
  {
   "cell_type": "markdown",
   "metadata": {},
   "source": [
    "# Library import"
   ]
  },
  {
   "cell_type": "code",
   "execution_count": 213,
   "metadata": {},
   "outputs": [],
   "source": [
    "import pandas as pd\n",
    "import numpy as np\n",
    "\n",
    "import bs4 as bs\n",
    "import pickle\n",
    "import requests\n",
    "import time\n",
    "import lxml\n",
    "from datetime import datetime, timedelta\n",
    "\n",
    "import yfinance as yf\n",
    "import stockstats\n",
    "\n",
    "import unicodedata\n",
    "import json\n",
    "from textblob import TextBlob\n",
    "\n",
    "from sklearn.preprocessing import StandardScaler, MinMaxScaler\n",
    "from sklearn.model_selection import GridSearchCV\n",
    "from sklearn.ensemble import AdaBoostClassifier\n",
    "from sklearn.ensemble import RandomForestClassifier\n",
    "from sklearn.ensemble import GradientBoostingClassifier, IsolationForest,VotingClassifier\n",
    "from sklearn.model_selection import StratifiedShuffleSplit, train_test_split\n",
    "from sklearn.tree import export_graphviz\n",
    "from sklearn import tree\n",
    "from sklearn.neural_network import MLPClassifier\n",
    "from xgboost import XGBClassifier\n",
    "\n",
    "from sklearn.metrics import roc_auc_score, confusion_matrix, classification_report\n",
    "from sklearn.metrics import classification_report, accuracy_score"
   ]
  },
  {
   "cell_type": "markdown",
   "metadata": {},
   "source": [
    "# Read Data"
   ]
  },
  {
   "cell_type": "code",
   "execution_count": 214,
   "metadata": {},
   "outputs": [],
   "source": [
    "stock_without_absolute = pd.read_pickle('./data/stock_without_absolute.pkl')\n",
    "stock_with_absolute = pd.read_pickle('./data/stock_with_absolute.pkl')\n",
    "\n",
    "label_abs_1d = pd.read_pickle('./data/label_abs_1d.pkl')\n",
    "label_abs_7d = pd.read_pickle('./data/label_abs_7d.pkl')\n",
    "label_abs_30d = pd.read_pickle('./data/label_abs_30d.pkl')\n",
    "\n",
    "label_value_1d = pd.read_pickle('./data/label_value_1d.pkl')\n",
    "label_value_7d = pd.read_pickle('./data/label_value_7d.pkl')\n",
    "label_value_30d = pd.read_pickle('./data/label_value_30d.pkl')\n"
   ]
  },
  {
   "cell_type": "markdown",
   "metadata": {},
   "source": [
    "# Result Evaluation"
   ]
  },
  {
   "cell_type": "code",
   "execution_count": 215,
   "metadata": {},
   "outputs": [],
   "source": [
    "def create_grid_model(classifier, param_grid):\n",
    "    cv = StratifiedShuffleSplit(n_splits=5, test_size=0.1)\n",
    "    grid_model = GridSearchCV(classifier, param_grid=param_grid, cv=cv, n_jobs=-1,verbose=1, scoring='accuracy')\n",
    "    return grid_model"
   ]
  },
  {
   "cell_type": "code",
   "execution_count": 216,
   "metadata": {},
   "outputs": [],
   "source": [
    "def result(grid_model, train_data, predicted_test, test_label, predicted_train, train_label, file_name, decision_function, clf_name=\"Classifier\"):\n",
    "    print(\"Results for \", clf_name, \": \")\n",
    "    print()\n",
    "    print(\"The best parameters are %s\" % (grid_model.best_params_))\n",
    "    acc_train = accuracy_score(train_label, predicted_train)\n",
    "    acc_test = accuracy_score(test_label, predicted_test)\n",
    "    print(\"The Train Accuracy  %0.3f\" % (acc_train))\n",
    "    print(\"The Validation Accuracy   %0.3f\" % (grid_model.best_score_))\n",
    "    print(\"The Test Accuracy   %0.3f\" % (acc_test ))\n",
    "    \n",
    "    if (clf_name[:6] == 'Random') | (clf_name == 'DecisionTree'):\n",
    "        test_label_roc = np.zeros((len(test_label),2) )\n",
    "        for i,v in enumerate(test_label):\n",
    "            if v > 0.5:\n",
    "                test_label_roc[i,1] = 1\n",
    "            else:\n",
    "                test_label_roc[i,0] = 1\n",
    "    \n",
    "    \n",
    "    if (clf_name[:6] == 'Random') | (clf_name == 'DecisionTree'):\n",
    "        print(\"AUC ROC : %0.3f\" %( roc_auc_score(test_label_roc, decision_function) ))\n",
    "    else:\n",
    "        print(\"AUC ROC : %0.3f\" %( roc_auc_score(test_label, decision_function) ))\n",
    "\n",
    "    print(\"The mean training time of %f\" % (np.mean(grid_model.cv_results_['mean_fit_time'], axis=0)) )\n",
    "    print(\"The mean test time of %f\" % (np.mean(grid_model.cv_results_['mean_score_time'], axis=0)) )\n",
    "    # confusion matrix\n",
    "    print(\"confusion matrix / precision recall scores\")\n",
    "    print ( confusion_matrix(test_label, predicted_test) )\n",
    "    print ( classification_report(test_label, predicted_test) )\n",
    "    rfc_model.best_estimator_.feature_importances_\n",
    "    \n",
    "    #feature importance\n",
    "    feats = {} # a dict to hold feature_name: feature_importance\n",
    "    for feature, importance in zip(train_data.columns, grid_model.best_estimator_.feature_importances_):\n",
    "        feats[feature] = importance #add the name/value pair \n",
    "    importances = pd.DataFrame.from_dict(feats, orient='index').rename(columns={0: 'Gini-importance'})\n",
    "    importances = importances.sort_values(by='Gini-importance', ascending=False)\n",
    "    print(importances.head(7)) # print the top 7 features with greater importance\n",
    "    \n",
    "    f = open(file_name+'.txt','w')\n",
    "    f.write(\"The best parameters are %s\\n\"% (grid_model.best_params_))\n",
    "    f.write(\"The Train Accuracy %0.3f\\n\" % (acc_train))\n",
    "    if (clf_name[:6] == 'Random') | (clf_name == 'DecisionTree'):\n",
    "        f.write(\"AUC ROC : %0.3f\\n\" %( roc_auc_score(test_label_roc, decision_function) ))\n",
    "    else:\n",
    "        f.write(\"AUC ROC : %0.3f\\n\" %( roc_auc_score(test_label, decision_function) ))\n",
    "\n",
    "    f.write(\"The Validation Accuracy %0.3f\\n\" % (grid_model.best_score_))\n",
    "    f.write(\"The Test Accuracy %0.3f\\n\" % (acc_test ))\n",
    "    f.write( str(confusion_matrix(test_label, predicted_test)) + \"\\n\")\n",
    "    f.write( str(classification_report(test_label, predicted_test)) + \"\\n\\n\")\n",
    "    f.write(json.dumps(feats))\n",
    "    f.close()\n",
    "    \n",
    "    importances.to_csv(file_name+'.csv')\n",
    "    \n",
    "    pass"
   ]
  },
  {
   "cell_type": "markdown",
   "metadata": {},
   "source": [
    "# Random Forest Classifier"
   ]
  },
  {
   "cell_type": "code",
   "execution_count": null,
   "metadata": {},
   "outputs": [],
   "source": [
    "# 改這些地方： train_data, label, filename, clfname"
   ]
  },
  {
   "cell_type": "code",
   "execution_count": 219,
   "metadata": {},
   "outputs": [
    {
     "name": "stdout",
     "output_type": "stream",
     "text": [
      "Fitting 5 folds for each of 30 candidates, totalling 150 fits\n"
     ]
    },
    {
     "name": "stderr",
     "output_type": "stream",
     "text": [
      "[Parallel(n_jobs=-1)]: Using backend LokyBackend with 8 concurrent workers.\n",
      "[Parallel(n_jobs=-1)]: Done  34 tasks      | elapsed:   10.9s\n",
      "[Parallel(n_jobs=-1)]: Done 150 out of 150 | elapsed:  1.6min finished\n"
     ]
    },
    {
     "name": "stdout",
     "output_type": "stream",
     "text": [
      "Results for  RandomForest : \n",
      "\n",
      "The best parameters are {'max_depth': 4, 'max_features': 2, 'n_estimators': 100}\n",
      "The Train Accuracy  0.673\n",
      "The Validation Accuracy   0.531\n",
      "The Test Accuracy   0.538\n",
      "AUC ROC : 0.480\n",
      "The mean training time of 4.416464\n",
      "The mean test time of 0.090529\n",
      "confusion matrix / precision recall scores\n",
      "[[ 20  86]\n",
      " [ 28 113]]\n",
      "              precision    recall  f1-score   support\n",
      "\n",
      "           0       0.42      0.19      0.26       106\n",
      "           1       0.57      0.80      0.66       141\n",
      "\n",
      "    accuracy                           0.54       247\n",
      "   macro avg       0.49      0.50      0.46       247\n",
      "weighted avg       0.50      0.54      0.49       247\n",
      "\n",
      "                        Gini-importance\n",
      "y5bond_high_low_diff           0.019197\n",
      "y5bond_open_close_diff         0.018199\n",
      "gold_high                      0.017718\n",
      "y10bond_high                   0.017347\n",
      "rsi_12                         0.017284\n",
      "y10bond_close_-1_r             0.017247\n",
      "open_close_diff                0.016964\n"
     ]
    }
   ],
   "source": [
    "# stock_with_absolute, predict 1 day trend \n",
    "rfc = RandomForestClassifier() # classifier\n",
    "max_depth = [2, 4, 8, 10, 20]\n",
    "n_estimators = [100, 500, 1000]\n",
    "max_features = [2 ,'sqrt']\n",
    "# min_samples_split = [None, 10, 50]\n",
    "\n",
    "# param to grid search\n",
    "param_grid = dict(max_depth=max_depth, n_estimators=n_estimators, max_features=max_features)\n",
    "\n",
    "# train data and label\n",
    "train_data = stock_with_absolute\n",
    "label = label_abs_1d\n",
    "\n",
    "X_train, X_test, y_train, y_test = train_test_split(train_data, label, test_size=0.1, random_state=42)\n",
    "\n",
    "rfc_model = create_grid_model(rfc, param_grid)\n",
    "rfc_model.fit(X_train, y_train)\n",
    "\n",
    "predicted_test = rfc_model.predict(X_test)\n",
    "predicted_train = rfc_model.predict(X_train)\n",
    "decision_function = rfc_model.predict_proba(X_test)\n",
    "\n",
    "result(rfc_model, train_data, predicted_test, y_test, predicted_train, y_train, \n",
    "       \"./results/rfc_with_ABS_pred_1_d\", decision_function, clf_name=\"RandomForest\")\n"
   ]
  },
  {
   "cell_type": "code",
   "execution_count": 220,
   "metadata": {},
   "outputs": [
    {
     "name": "stdout",
     "output_type": "stream",
     "text": [
      "Fitting 5 folds for each of 30 candidates, totalling 150 fits\n"
     ]
    },
    {
     "name": "stderr",
     "output_type": "stream",
     "text": [
      "[Parallel(n_jobs=-1)]: Using backend LokyBackend with 8 concurrent workers.\n",
      "[Parallel(n_jobs=-1)]: Done  34 tasks      | elapsed:    9.7s\n",
      "[Parallel(n_jobs=-1)]: Done 150 out of 150 | elapsed:  1.4min finished\n"
     ]
    },
    {
     "name": "stdout",
     "output_type": "stream",
     "text": [
      "Results for  RandomForest : \n",
      "\n",
      "The best parameters are {'max_depth': 20, 'max_features': 'sqrt', 'n_estimators': 100}\n",
      "The Train Accuracy  1.000\n",
      "The Validation Accuracy   0.551\n",
      "The Test Accuracy   0.555\n",
      "AUC ROC : 0.562\n",
      "The mean training time of 4.211553\n",
      "The mean test time of 0.098626\n",
      "confusion matrix / precision recall scores\n",
      "[[51 55]\n",
      " [55 86]]\n",
      "              precision    recall  f1-score   support\n",
      "\n",
      "           0       0.48      0.48      0.48       106\n",
      "           1       0.61      0.61      0.61       141\n",
      "\n",
      "    accuracy                           0.55       247\n",
      "   macro avg       0.55      0.55      0.55       247\n",
      "weighted avg       0.55      0.55      0.55       247\n",
      "\n",
      "                      Gini-importance\n",
      "sp500_volume_delta           0.020237\n",
      "boll_lb_-1_d                 0.019369\n",
      "news_title_score             0.019357\n",
      "vr                           0.018922\n",
      "news_des_score               0.018594\n",
      "y10bond_close_-6_r           0.018266\n",
      "y5bond_high_low_diff         0.018199\n"
     ]
    }
   ],
   "source": [
    "# stock_without_absolute, predict 1 day trend \n",
    "rfc = RandomForestClassifier() # classifier\n",
    "max_depth = [2, 4, 8, 10, 20]\n",
    "n_estimators = [100, 500, 1000]\n",
    "max_features = [2 ,'sqrt']\n",
    "# min_samples_split = [None, 10, 50]\n",
    "\n",
    "# param to grid search\n",
    "param_grid = dict(max_depth=max_depth, n_estimators=n_estimators, max_features=max_features)\n",
    "\n",
    "# train data and label\n",
    "train_data = stock_without_absolute\n",
    "label = label_abs_1d\n",
    "\n",
    "X_train, X_test, y_train, y_test = train_test_split(train_data, label, test_size=0.1, random_state=42)\n",
    "\n",
    "rfc_model = create_grid_model(rfc, param_grid)\n",
    "rfc_model.fit(X_train, y_train)\n",
    "\n",
    "predicted_test = rfc_model.predict(X_test)\n",
    "predicted_train = rfc_model.predict(X_train)\n",
    "decision_function = rfc_model.predict_proba(X_test)\n",
    "\n",
    "result(rfc_model, train_data, predicted_test, y_test, predicted_train, y_train, \n",
    "       \"./results/rfc_without_ABS_pred_1_d\", decision_function, clf_name=\"RandomForest\")"
   ]
  },
  {
   "cell_type": "code",
   "execution_count": 222,
   "metadata": {},
   "outputs": [
    {
     "name": "stdout",
     "output_type": "stream",
     "text": [
      "Fitting 5 folds for each of 30 candidates, totalling 150 fits\n"
     ]
    },
    {
     "name": "stderr",
     "output_type": "stream",
     "text": [
      "[Parallel(n_jobs=-1)]: Using backend LokyBackend with 8 concurrent workers.\n",
      "[Parallel(n_jobs=-1)]: Done  34 tasks      | elapsed:    9.2s\n",
      "[Parallel(n_jobs=-1)]: Done 150 out of 150 | elapsed:  1.5min finished\n"
     ]
    },
    {
     "name": "stdout",
     "output_type": "stream",
     "text": [
      "Results for  RandomForest : \n",
      "\n",
      "The best parameters are {'max_depth': 20, 'max_features': 'sqrt', 'n_estimators': 500}\n",
      "The Train Accuracy  1.000\n",
      "The Validation Accuracy   0.769\n",
      "The Test Accuracy   0.781\n",
      "AUC ROC : 0.890\n",
      "The mean training time of 4.479552\n",
      "The mean test time of 0.092636\n",
      "confusion matrix / precision recall scores\n",
      "[[ 67  43]\n",
      " [ 11 126]]\n",
      "              precision    recall  f1-score   support\n",
      "\n",
      "           0       0.86      0.61      0.71       110\n",
      "           1       0.75      0.92      0.82       137\n",
      "\n",
      "    accuracy                           0.78       247\n",
      "   macro avg       0.80      0.76      0.77       247\n",
      "weighted avg       0.80      0.78      0.77       247\n",
      "\n",
      "                 Gini-importance\n",
      "atr                     0.026383\n",
      "dma                     0.018068\n",
      "macds                   0.017120\n",
      "sp500_open              0.016855\n",
      "sp500_high              0.016242\n",
      "sp500_adj close         0.016201\n",
      "gold_low                0.016124\n"
     ]
    }
   ],
   "source": [
    "# stock_with_absolute, predict 7 day trend \n",
    "rfc = RandomForestClassifier() # classifier\n",
    "max_depth = [2, 4, 8, 10, 20]\n",
    "n_estimators = [100, 500, 1000]\n",
    "max_features = [2 ,'sqrt']\n",
    "# min_samples_split = [None, 10, 50]\n",
    "\n",
    "# param to grid search\n",
    "param_grid = dict(max_depth=max_depth, n_estimators=n_estimators, max_features=max_features)\n",
    "\n",
    "# train data and label\n",
    "train_data = stock_with_absolute\n",
    "label = label_abs_7d\n",
    "\n",
    "X_train, X_test, y_train, y_test = train_test_split(train_data, label, test_size=0.1, random_state=42)\n",
    "\n",
    "rfc_model = create_grid_model(rfc, param_grid)\n",
    "rfc_model.fit(X_train, y_train)\n",
    "\n",
    "predicted_test = rfc_model.predict(X_test)\n",
    "predicted_train = rfc_model.predict(X_train)\n",
    "decision_function = rfc_model.predict_proba(X_test)\n",
    "\n",
    "result(rfc_model, train_data, predicted_test, y_test, predicted_train, y_train, \n",
    "       \"./results/rfc_with_ABS_pred_7_d\", decision_function, clf_name=\"RandomForest\")"
   ]
  },
  {
   "cell_type": "code",
   "execution_count": 221,
   "metadata": {},
   "outputs": [
    {
     "name": "stdout",
     "output_type": "stream",
     "text": [
      "Fitting 5 folds for each of 30 candidates, totalling 150 fits\n"
     ]
    },
    {
     "name": "stderr",
     "output_type": "stream",
     "text": [
      "[Parallel(n_jobs=-1)]: Using backend LokyBackend with 8 concurrent workers.\n",
      "[Parallel(n_jobs=-1)]: Done  34 tasks      | elapsed:    9.3s\n",
      "[Parallel(n_jobs=-1)]: Done 150 out of 150 | elapsed:  1.5min finished\n"
     ]
    },
    {
     "name": "stdout",
     "output_type": "stream",
     "text": [
      "Results for  RandomForest : \n",
      "\n",
      "The best parameters are {'max_depth': 20, 'max_features': 'sqrt', 'n_estimators': 1000}\n",
      "The Train Accuracy  1.000\n",
      "The Validation Accuracy   0.666\n",
      "The Test Accuracy   0.640\n",
      "AUC ROC : 0.725\n",
      "The mean training time of 4.299433\n",
      "The mean test time of 0.094797\n",
      "confusion matrix / precision recall scores\n",
      "[[ 33  77]\n",
      " [ 12 125]]\n",
      "              precision    recall  f1-score   support\n",
      "\n",
      "           0       0.73      0.30      0.43       110\n",
      "           1       0.62      0.91      0.74       137\n",
      "\n",
      "    accuracy                           0.64       247\n",
      "   macro avg       0.68      0.61      0.58       247\n",
      "weighted avg       0.67      0.64      0.60       247\n",
      "\n",
      "                 Gini-importance\n",
      "atr                     0.038052\n",
      "vr                      0.023309\n",
      "gold_close_-6_r         0.021191\n",
      "macds                   0.020025\n",
      "boll_lb_-1_d            0.019995\n",
      "macdh                   0.019972\n",
      "boll_-1_d               0.019800\n"
     ]
    }
   ],
   "source": [
    "# stock_without_absolute, predict 7 day trend \n",
    "rfc = RandomForestClassifier() # classifier\n",
    "max_depth = [2, 4, 8, 10, 20]\n",
    "n_estimators = [100, 500, 1000]\n",
    "max_features = [2 ,'sqrt']\n",
    "# min_samples_split = [None, 10, 50]\n",
    "\n",
    "# param to grid search\n",
    "param_grid = dict(max_depth=max_depth, n_estimators=n_estimators, max_features=max_features)\n",
    "\n",
    "# train data and label\n",
    "train_data = stock_without_absolute\n",
    "label = label_abs_7d\n",
    "\n",
    "X_train, X_test, y_train, y_test = train_test_split(train_data, label, test_size=0.1, random_state=42)\n",
    "\n",
    "rfc_model = create_grid_model(rfc, param_grid)\n",
    "rfc_model.fit(X_train, y_train)\n",
    "\n",
    "predicted_test = rfc_model.predict(X_test)\n",
    "predicted_train = rfc_model.predict(X_train)\n",
    "decision_function = rfc_model.predict_proba(X_test)\n",
    "\n",
    "result(rfc_model, train_data, predicted_test, y_test, predicted_train, y_train, \n",
    "       \"./results/rfc_without_ABS_pred_7_d\", decision_function, clf_name=\"RandomForest\")"
   ]
  },
  {
   "cell_type": "code",
   "execution_count": 223,
   "metadata": {},
   "outputs": [
    {
     "name": "stdout",
     "output_type": "stream",
     "text": [
      "Fitting 5 folds for each of 30 candidates, totalling 150 fits\n"
     ]
    },
    {
     "name": "stderr",
     "output_type": "stream",
     "text": [
      "[Parallel(n_jobs=-1)]: Using backend LokyBackend with 8 concurrent workers.\n",
      "[Parallel(n_jobs=-1)]: Done  34 tasks      | elapsed:    9.2s\n",
      "[Parallel(n_jobs=-1)]: Done 150 out of 150 | elapsed:  1.4min finished\n"
     ]
    },
    {
     "name": "stdout",
     "output_type": "stream",
     "text": [
      "Results for  RandomForest : \n",
      "\n",
      "The best parameters are {'max_depth': 20, 'max_features': 'sqrt', 'n_estimators': 500}\n",
      "The Train Accuracy  1.000\n",
      "The Validation Accuracy   0.909\n",
      "The Test Accuracy   0.931\n",
      "AUC ROC : 0.976\n",
      "The mean training time of 4.203321\n",
      "The mean test time of 0.091152\n",
      "confusion matrix / precision recall scores\n",
      "[[ 69  12]\n",
      " [  5 161]]\n",
      "              precision    recall  f1-score   support\n",
      "\n",
      "           0       0.93      0.85      0.89        81\n",
      "           1       0.93      0.97      0.95       166\n",
      "\n",
      "    accuracy                           0.93       247\n",
      "   macro avg       0.93      0.91      0.92       247\n",
      "weighted avg       0.93      0.93      0.93       247\n",
      "\n",
      "             Gini-importance\n",
      "atr                 0.033963\n",
      "sp500_high          0.030688\n",
      "sp500_close         0.028396\n",
      "sp500_open          0.028332\n",
      "sp500_low           0.027637\n",
      "gold_open           0.026618\n",
      "gold_high           0.026243\n"
     ]
    }
   ],
   "source": [
    "# stock_with_absolute, predict 30 day trend \n",
    "rfc = RandomForestClassifier() # classifier\n",
    "max_depth = [2, 4, 8, 10, 20]\n",
    "n_estimators = [100, 500, 1000]\n",
    "max_features = [2 ,'sqrt']\n",
    "# min_samples_split = [None, 10, 50]\n",
    "\n",
    "# param to grid search\n",
    "param_grid = dict(max_depth=max_depth, n_estimators=n_estimators, max_features=max_features)\n",
    "\n",
    "# train data and label\n",
    "train_data = stock_with_absolute\n",
    "label = label_abs_30d\n",
    "\n",
    "X_train, X_test, y_train, y_test = train_test_split(train_data, label, test_size=0.1, random_state=42)\n",
    "\n",
    "rfc_model = create_grid_model(rfc, param_grid)\n",
    "rfc_model.fit(X_train, y_train)\n",
    "\n",
    "predicted_test = rfc_model.predict(X_test)\n",
    "predicted_train = rfc_model.predict(X_train)\n",
    "decision_function = rfc_model.predict_proba(X_test)\n",
    "\n",
    "result(rfc_model, train_data, predicted_test, y_test, predicted_train, y_train, \n",
    "       \"./results/rfc_with_ABS_pred_30_d\", decision_function, clf_name=\"RandomForest\")"
   ]
  },
  {
   "cell_type": "code",
   "execution_count": 224,
   "metadata": {},
   "outputs": [
    {
     "name": "stdout",
     "output_type": "stream",
     "text": [
      "Fitting 5 folds for each of 30 candidates, totalling 150 fits\n"
     ]
    },
    {
     "name": "stderr",
     "output_type": "stream",
     "text": [
      "[Parallel(n_jobs=-1)]: Using backend LokyBackend with 8 concurrent workers.\n",
      "[Parallel(n_jobs=-1)]: Done  34 tasks      | elapsed:    8.3s\n",
      "[Parallel(n_jobs=-1)]: Done 150 out of 150 | elapsed:  1.3min finished\n"
     ]
    },
    {
     "name": "stdout",
     "output_type": "stream",
     "text": [
      "Results for  RandomForest : \n",
      "\n",
      "The best parameters are {'max_depth': 20, 'max_features': 'sqrt', 'n_estimators': 500}\n",
      "The Train Accuracy  1.000\n",
      "The Validation Accuracy   0.749\n",
      "The Test Accuracy   0.781\n",
      "AUC ROC : 0.860\n",
      "The mean training time of 3.852295\n",
      "The mean test time of 0.087666\n",
      "confusion matrix / precision recall scores\n",
      "[[ 35  46]\n",
      " [  8 158]]\n",
      "              precision    recall  f1-score   support\n",
      "\n",
      "           0       0.81      0.43      0.56        81\n",
      "           1       0.77      0.95      0.85       166\n",
      "\n",
      "    accuracy                           0.78       247\n",
      "   macro avg       0.79      0.69      0.71       247\n",
      "weighted avg       0.79      0.78      0.76       247\n",
      "\n",
      "           Gini-importance\n",
      "atr               0.062091\n",
      "macds             0.038920\n",
      "dma               0.034029\n",
      "macd              0.030345\n",
      "vr                0.030340\n",
      "macdh             0.021150\n",
      "boll_-1_d         0.019527\n"
     ]
    }
   ],
   "source": [
    "# stock_without_absolute, predict 30 day trend \n",
    "rfc = RandomForestClassifier() # classifier\n",
    "max_depth = [2, 4, 8, 10, 20]\n",
    "n_estimators = [100, 500, 1000]\n",
    "max_features = [2 ,'sqrt']\n",
    "# min_samples_split = [None, 10, 50]\n",
    "\n",
    "# param to grid search\n",
    "param_grid = dict(max_depth=max_depth, n_estimators=n_estimators, max_features=max_features)\n",
    "\n",
    "# train data and label\n",
    "train_data = stock_without_absolute\n",
    "label = label_abs_30d\n",
    "\n",
    "X_train, X_test, y_train, y_test = train_test_split(train_data, label, test_size=0.1, random_state=42)\n",
    "\n",
    "rfc_model = create_grid_model(rfc, param_grid)\n",
    "rfc_model.fit(X_train, y_train)\n",
    "\n",
    "predicted_test = rfc_model.predict(X_test)\n",
    "predicted_train = rfc_model.predict(X_train)\n",
    "decision_function = rfc_model.predict_proba(X_test)\n",
    "\n",
    "result(rfc_model, train_data, predicted_test, y_test, predicted_train, y_train, \n",
    "       \"./results/rfc_without_ABS_pred_30_d\", decision_function, clf_name=\"RandomForest\")"
   ]
  },
  {
   "cell_type": "code",
   "execution_count": null,
   "metadata": {},
   "outputs": [],
   "source": []
  },
  {
   "cell_type": "code",
   "execution_count": null,
   "metadata": {},
   "outputs": [],
   "source": []
  },
  {
   "cell_type": "code",
   "execution_count": null,
   "metadata": {},
   "outputs": [],
   "source": []
  },
  {
   "cell_type": "code",
   "execution_count": null,
   "metadata": {},
   "outputs": [],
   "source": []
  },
  {
   "cell_type": "code",
   "execution_count": null,
   "metadata": {},
   "outputs": [],
   "source": []
  },
  {
   "cell_type": "code",
   "execution_count": null,
   "metadata": {},
   "outputs": [],
   "source": []
  },
  {
   "cell_type": "code",
   "execution_count": null,
   "metadata": {},
   "outputs": [],
   "source": []
  },
  {
   "cell_type": "code",
   "execution_count": null,
   "metadata": {},
   "outputs": [],
   "source": []
  },
  {
   "cell_type": "code",
   "execution_count": null,
   "metadata": {},
   "outputs": [],
   "source": []
  },
  {
   "cell_type": "code",
   "execution_count": null,
   "metadata": {},
   "outputs": [],
   "source": []
  },
  {
   "cell_type": "code",
   "execution_count": null,
   "metadata": {},
   "outputs": [],
   "source": []
  }
 ],
 "metadata": {
  "kernelspec": {
   "display_name": "Python 3",
   "language": "python",
   "name": "python3"
  },
  "language_info": {
   "codemirror_mode": {
    "name": "ipython",
    "version": 3
   },
   "file_extension": ".py",
   "mimetype": "text/x-python",
   "name": "python",
   "nbconvert_exporter": "python",
   "pygments_lexer": "ipython3",
   "version": "3.6.10"
  }
 },
 "nbformat": 4,
 "nbformat_minor": 4
}
